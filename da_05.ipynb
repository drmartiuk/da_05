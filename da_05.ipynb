{
 "cells": [
  {
   "cell_type": "markdown",
   "metadata": {},
   "source": [
    "# Исследование объявлений о продаже квартир\n",
    "\n",
    "В вашем распоряжении данные сервиса Яндекс.Недвижимость — архив объявлений о продаже квартир в Санкт-Петербурге и соседних населённых пунктов за несколько лет. Нужно научиться определять рыночную стоимость объектов недвижимости. Ваша задача — установить параметры. Это позволит построить автоматизированную систему: она отследит аномалии и мошенническую деятельность. \n",
    "\n",
    "По каждой квартире на продажу доступны два вида данных. Первые вписаны пользователем, вторые — получены автоматически на основе картографических данных. Например, расстояние до центра, аэропорта, ближайшего парка и водоёма. "
   ]
  },
  {
   "cell_type": "markdown",
   "metadata": {},
   "source": [
    "### Откройте файл с данными и изучите общую информацию. "
   ]
  },
  {
   "cell_type": "code",
   "execution_count": 1,
   "metadata": {},
   "outputs": [
    {
     "name": "stdout",
     "output_type": "stream",
     "text": [
      "<class 'pandas.core.frame.DataFrame'>\n",
      "RangeIndex: 23699 entries, 0 to 23698\n",
      "Data columns (total 22 columns):\n",
      " #   Column                Non-Null Count  Dtype  \n",
      "---  ------                --------------  -----  \n",
      " 0   total_images          23699 non-null  int64  \n",
      " 1   last_price            23699 non-null  float64\n",
      " 2   total_area            23699 non-null  float64\n",
      " 3   first_day_exposition  23699 non-null  object \n",
      " 4   rooms                 23699 non-null  int64  \n",
      " 5   ceiling_height        14504 non-null  float64\n",
      " 6   floors_total          23613 non-null  float64\n",
      " 7   living_area           21796 non-null  float64\n",
      " 8   floor                 23699 non-null  int64  \n",
      " 9   is_apartment          2775 non-null   object \n",
      " 10  studio                23699 non-null  bool   \n",
      " 11  open_plan             23699 non-null  bool   \n",
      " 12  kitchen_area          21421 non-null  float64\n",
      " 13  balcony               12180 non-null  float64\n",
      " 14  locality_name         23650 non-null  object \n",
      " 15  airports_nearest      18157 non-null  float64\n",
      " 16  cityCenters_nearest   18180 non-null  float64\n",
      " 17  parks_around3000      18181 non-null  float64\n",
      " 18  parks_nearest         8079 non-null   float64\n",
      " 19  ponds_around3000      18181 non-null  float64\n",
      " 20  ponds_nearest         9110 non-null   float64\n",
      " 21  days_exposition       20518 non-null  float64\n",
      "dtypes: bool(2), float64(14), int64(3), object(3)\n",
      "memory usage: 3.7+ MB\n"
     ]
    },
    {
     "data": {
      "text/html": [
       "<div>\n",
       "<style scoped>\n",
       "    .dataframe tbody tr th:only-of-type {\n",
       "        vertical-align: middle;\n",
       "    }\n",
       "\n",
       "    .dataframe tbody tr th {\n",
       "        vertical-align: top;\n",
       "    }\n",
       "\n",
       "    .dataframe thead th {\n",
       "        text-align: right;\n",
       "    }\n",
       "</style>\n",
       "<table border=\"1\" class=\"dataframe\">\n",
       "  <thead>\n",
       "    <tr style=\"text-align: right;\">\n",
       "      <th></th>\n",
       "      <th>total_images</th>\n",
       "      <th>last_price</th>\n",
       "      <th>total_area</th>\n",
       "      <th>first_day_exposition</th>\n",
       "      <th>rooms</th>\n",
       "      <th>ceiling_height</th>\n",
       "      <th>floors_total</th>\n",
       "      <th>living_area</th>\n",
       "      <th>floor</th>\n",
       "      <th>is_apartment</th>\n",
       "      <th>...</th>\n",
       "      <th>kitchen_area</th>\n",
       "      <th>balcony</th>\n",
       "      <th>locality_name</th>\n",
       "      <th>airports_nearest</th>\n",
       "      <th>cityCenters_nearest</th>\n",
       "      <th>parks_around3000</th>\n",
       "      <th>parks_nearest</th>\n",
       "      <th>ponds_around3000</th>\n",
       "      <th>ponds_nearest</th>\n",
       "      <th>days_exposition</th>\n",
       "    </tr>\n",
       "  </thead>\n",
       "  <tbody>\n",
       "    <tr>\n",
       "      <th>0</th>\n",
       "      <td>20</td>\n",
       "      <td>13000000.0</td>\n",
       "      <td>108.00</td>\n",
       "      <td>2019-03-07T00:00:00</td>\n",
       "      <td>3</td>\n",
       "      <td>2.70</td>\n",
       "      <td>16.0</td>\n",
       "      <td>51.0</td>\n",
       "      <td>8</td>\n",
       "      <td>NaN</td>\n",
       "      <td>...</td>\n",
       "      <td>25.00</td>\n",
       "      <td>NaN</td>\n",
       "      <td>Санкт-Петербург</td>\n",
       "      <td>18863.0</td>\n",
       "      <td>16028.0</td>\n",
       "      <td>1.0</td>\n",
       "      <td>482.0</td>\n",
       "      <td>2.0</td>\n",
       "      <td>755.0</td>\n",
       "      <td>NaN</td>\n",
       "    </tr>\n",
       "    <tr>\n",
       "      <th>1</th>\n",
       "      <td>7</td>\n",
       "      <td>3350000.0</td>\n",
       "      <td>40.40</td>\n",
       "      <td>2018-12-04T00:00:00</td>\n",
       "      <td>1</td>\n",
       "      <td>NaN</td>\n",
       "      <td>11.0</td>\n",
       "      <td>18.6</td>\n",
       "      <td>1</td>\n",
       "      <td>NaN</td>\n",
       "      <td>...</td>\n",
       "      <td>11.00</td>\n",
       "      <td>2.0</td>\n",
       "      <td>посёлок Шушары</td>\n",
       "      <td>12817.0</td>\n",
       "      <td>18603.0</td>\n",
       "      <td>0.0</td>\n",
       "      <td>NaN</td>\n",
       "      <td>0.0</td>\n",
       "      <td>NaN</td>\n",
       "      <td>81.0</td>\n",
       "    </tr>\n",
       "    <tr>\n",
       "      <th>2</th>\n",
       "      <td>10</td>\n",
       "      <td>5196000.0</td>\n",
       "      <td>56.00</td>\n",
       "      <td>2015-08-20T00:00:00</td>\n",
       "      <td>2</td>\n",
       "      <td>NaN</td>\n",
       "      <td>5.0</td>\n",
       "      <td>34.3</td>\n",
       "      <td>4</td>\n",
       "      <td>NaN</td>\n",
       "      <td>...</td>\n",
       "      <td>8.30</td>\n",
       "      <td>0.0</td>\n",
       "      <td>Санкт-Петербург</td>\n",
       "      <td>21741.0</td>\n",
       "      <td>13933.0</td>\n",
       "      <td>1.0</td>\n",
       "      <td>90.0</td>\n",
       "      <td>2.0</td>\n",
       "      <td>574.0</td>\n",
       "      <td>558.0</td>\n",
       "    </tr>\n",
       "    <tr>\n",
       "      <th>3</th>\n",
       "      <td>0</td>\n",
       "      <td>64900000.0</td>\n",
       "      <td>159.00</td>\n",
       "      <td>2015-07-24T00:00:00</td>\n",
       "      <td>3</td>\n",
       "      <td>NaN</td>\n",
       "      <td>14.0</td>\n",
       "      <td>NaN</td>\n",
       "      <td>9</td>\n",
       "      <td>NaN</td>\n",
       "      <td>...</td>\n",
       "      <td>NaN</td>\n",
       "      <td>0.0</td>\n",
       "      <td>Санкт-Петербург</td>\n",
       "      <td>28098.0</td>\n",
       "      <td>6800.0</td>\n",
       "      <td>2.0</td>\n",
       "      <td>84.0</td>\n",
       "      <td>3.0</td>\n",
       "      <td>234.0</td>\n",
       "      <td>424.0</td>\n",
       "    </tr>\n",
       "    <tr>\n",
       "      <th>4</th>\n",
       "      <td>2</td>\n",
       "      <td>10000000.0</td>\n",
       "      <td>100.00</td>\n",
       "      <td>2018-06-19T00:00:00</td>\n",
       "      <td>2</td>\n",
       "      <td>3.03</td>\n",
       "      <td>14.0</td>\n",
       "      <td>32.0</td>\n",
       "      <td>13</td>\n",
       "      <td>NaN</td>\n",
       "      <td>...</td>\n",
       "      <td>41.00</td>\n",
       "      <td>NaN</td>\n",
       "      <td>Санкт-Петербург</td>\n",
       "      <td>31856.0</td>\n",
       "      <td>8098.0</td>\n",
       "      <td>2.0</td>\n",
       "      <td>112.0</td>\n",
       "      <td>1.0</td>\n",
       "      <td>48.0</td>\n",
       "      <td>121.0</td>\n",
       "    </tr>\n",
       "    <tr>\n",
       "      <th>...</th>\n",
       "      <td>...</td>\n",
       "      <td>...</td>\n",
       "      <td>...</td>\n",
       "      <td>...</td>\n",
       "      <td>...</td>\n",
       "      <td>...</td>\n",
       "      <td>...</td>\n",
       "      <td>...</td>\n",
       "      <td>...</td>\n",
       "      <td>...</td>\n",
       "      <td>...</td>\n",
       "      <td>...</td>\n",
       "      <td>...</td>\n",
       "      <td>...</td>\n",
       "      <td>...</td>\n",
       "      <td>...</td>\n",
       "      <td>...</td>\n",
       "      <td>...</td>\n",
       "      <td>...</td>\n",
       "      <td>...</td>\n",
       "      <td>...</td>\n",
       "    </tr>\n",
       "    <tr>\n",
       "      <th>23694</th>\n",
       "      <td>9</td>\n",
       "      <td>9700000.0</td>\n",
       "      <td>133.81</td>\n",
       "      <td>2017-03-21T00:00:00</td>\n",
       "      <td>3</td>\n",
       "      <td>3.70</td>\n",
       "      <td>5.0</td>\n",
       "      <td>73.3</td>\n",
       "      <td>3</td>\n",
       "      <td>NaN</td>\n",
       "      <td>...</td>\n",
       "      <td>13.83</td>\n",
       "      <td>NaN</td>\n",
       "      <td>Санкт-Петербург</td>\n",
       "      <td>24665.0</td>\n",
       "      <td>4232.0</td>\n",
       "      <td>1.0</td>\n",
       "      <td>796.0</td>\n",
       "      <td>3.0</td>\n",
       "      <td>381.0</td>\n",
       "      <td>NaN</td>\n",
       "    </tr>\n",
       "    <tr>\n",
       "      <th>23695</th>\n",
       "      <td>14</td>\n",
       "      <td>3100000.0</td>\n",
       "      <td>59.00</td>\n",
       "      <td>2018-01-15T00:00:00</td>\n",
       "      <td>3</td>\n",
       "      <td>NaN</td>\n",
       "      <td>5.0</td>\n",
       "      <td>38.0</td>\n",
       "      <td>4</td>\n",
       "      <td>NaN</td>\n",
       "      <td>...</td>\n",
       "      <td>8.50</td>\n",
       "      <td>NaN</td>\n",
       "      <td>Тосно</td>\n",
       "      <td>NaN</td>\n",
       "      <td>NaN</td>\n",
       "      <td>NaN</td>\n",
       "      <td>NaN</td>\n",
       "      <td>NaN</td>\n",
       "      <td>NaN</td>\n",
       "      <td>45.0</td>\n",
       "    </tr>\n",
       "    <tr>\n",
       "      <th>23696</th>\n",
       "      <td>18</td>\n",
       "      <td>2500000.0</td>\n",
       "      <td>56.70</td>\n",
       "      <td>2018-02-11T00:00:00</td>\n",
       "      <td>2</td>\n",
       "      <td>NaN</td>\n",
       "      <td>3.0</td>\n",
       "      <td>29.7</td>\n",
       "      <td>1</td>\n",
       "      <td>NaN</td>\n",
       "      <td>...</td>\n",
       "      <td>NaN</td>\n",
       "      <td>NaN</td>\n",
       "      <td>село Рождествено</td>\n",
       "      <td>NaN</td>\n",
       "      <td>NaN</td>\n",
       "      <td>NaN</td>\n",
       "      <td>NaN</td>\n",
       "      <td>NaN</td>\n",
       "      <td>NaN</td>\n",
       "      <td>NaN</td>\n",
       "    </tr>\n",
       "    <tr>\n",
       "      <th>23697</th>\n",
       "      <td>13</td>\n",
       "      <td>11475000.0</td>\n",
       "      <td>76.75</td>\n",
       "      <td>2017-03-28T00:00:00</td>\n",
       "      <td>2</td>\n",
       "      <td>3.00</td>\n",
       "      <td>17.0</td>\n",
       "      <td>NaN</td>\n",
       "      <td>12</td>\n",
       "      <td>NaN</td>\n",
       "      <td>...</td>\n",
       "      <td>23.30</td>\n",
       "      <td>2.0</td>\n",
       "      <td>Санкт-Петербург</td>\n",
       "      <td>39140.0</td>\n",
       "      <td>10364.0</td>\n",
       "      <td>2.0</td>\n",
       "      <td>173.0</td>\n",
       "      <td>3.0</td>\n",
       "      <td>196.0</td>\n",
       "      <td>602.0</td>\n",
       "    </tr>\n",
       "    <tr>\n",
       "      <th>23698</th>\n",
       "      <td>4</td>\n",
       "      <td>1350000.0</td>\n",
       "      <td>32.30</td>\n",
       "      <td>2017-07-21T00:00:00</td>\n",
       "      <td>1</td>\n",
       "      <td>2.50</td>\n",
       "      <td>5.0</td>\n",
       "      <td>12.3</td>\n",
       "      <td>1</td>\n",
       "      <td>NaN</td>\n",
       "      <td>...</td>\n",
       "      <td>9.00</td>\n",
       "      <td>NaN</td>\n",
       "      <td>поселок Новый Учхоз</td>\n",
       "      <td>NaN</td>\n",
       "      <td>NaN</td>\n",
       "      <td>NaN</td>\n",
       "      <td>NaN</td>\n",
       "      <td>NaN</td>\n",
       "      <td>NaN</td>\n",
       "      <td>NaN</td>\n",
       "    </tr>\n",
       "  </tbody>\n",
       "</table>\n",
       "<p>23699 rows × 22 columns</p>\n",
       "</div>"
      ],
      "text/plain": [
       "       total_images  last_price  total_area first_day_exposition  rooms  \\\n",
       "0                20  13000000.0      108.00  2019-03-07T00:00:00      3   \n",
       "1                 7   3350000.0       40.40  2018-12-04T00:00:00      1   \n",
       "2                10   5196000.0       56.00  2015-08-20T00:00:00      2   \n",
       "3                 0  64900000.0      159.00  2015-07-24T00:00:00      3   \n",
       "4                 2  10000000.0      100.00  2018-06-19T00:00:00      2   \n",
       "...             ...         ...         ...                  ...    ...   \n",
       "23694             9   9700000.0      133.81  2017-03-21T00:00:00      3   \n",
       "23695            14   3100000.0       59.00  2018-01-15T00:00:00      3   \n",
       "23696            18   2500000.0       56.70  2018-02-11T00:00:00      2   \n",
       "23697            13  11475000.0       76.75  2017-03-28T00:00:00      2   \n",
       "23698             4   1350000.0       32.30  2017-07-21T00:00:00      1   \n",
       "\n",
       "       ceiling_height  floors_total  living_area  floor is_apartment  ...  \\\n",
       "0                2.70          16.0         51.0      8          NaN  ...   \n",
       "1                 NaN          11.0         18.6      1          NaN  ...   \n",
       "2                 NaN           5.0         34.3      4          NaN  ...   \n",
       "3                 NaN          14.0          NaN      9          NaN  ...   \n",
       "4                3.03          14.0         32.0     13          NaN  ...   \n",
       "...               ...           ...          ...    ...          ...  ...   \n",
       "23694            3.70           5.0         73.3      3          NaN  ...   \n",
       "23695             NaN           5.0         38.0      4          NaN  ...   \n",
       "23696             NaN           3.0         29.7      1          NaN  ...   \n",
       "23697            3.00          17.0          NaN     12          NaN  ...   \n",
       "23698            2.50           5.0         12.3      1          NaN  ...   \n",
       "\n",
       "       kitchen_area  balcony        locality_name  airports_nearest  \\\n",
       "0             25.00      NaN      Санкт-Петербург           18863.0   \n",
       "1             11.00      2.0       посёлок Шушары           12817.0   \n",
       "2              8.30      0.0      Санкт-Петербург           21741.0   \n",
       "3               NaN      0.0      Санкт-Петербург           28098.0   \n",
       "4             41.00      NaN      Санкт-Петербург           31856.0   \n",
       "...             ...      ...                  ...               ...   \n",
       "23694         13.83      NaN      Санкт-Петербург           24665.0   \n",
       "23695          8.50      NaN                Тосно               NaN   \n",
       "23696           NaN      NaN     село Рождествено               NaN   \n",
       "23697         23.30      2.0      Санкт-Петербург           39140.0   \n",
       "23698          9.00      NaN  поселок Новый Учхоз               NaN   \n",
       "\n",
       "      cityCenters_nearest  parks_around3000  parks_nearest  ponds_around3000  \\\n",
       "0                 16028.0               1.0          482.0               2.0   \n",
       "1                 18603.0               0.0            NaN               0.0   \n",
       "2                 13933.0               1.0           90.0               2.0   \n",
       "3                  6800.0               2.0           84.0               3.0   \n",
       "4                  8098.0               2.0          112.0               1.0   \n",
       "...                   ...               ...            ...               ...   \n",
       "23694              4232.0               1.0          796.0               3.0   \n",
       "23695                 NaN               NaN            NaN               NaN   \n",
       "23696                 NaN               NaN            NaN               NaN   \n",
       "23697             10364.0               2.0          173.0               3.0   \n",
       "23698                 NaN               NaN            NaN               NaN   \n",
       "\n",
       "       ponds_nearest  days_exposition  \n",
       "0              755.0              NaN  \n",
       "1                NaN             81.0  \n",
       "2              574.0            558.0  \n",
       "3              234.0            424.0  \n",
       "4               48.0            121.0  \n",
       "...              ...              ...  \n",
       "23694          381.0              NaN  \n",
       "23695            NaN             45.0  \n",
       "23696            NaN              NaN  \n",
       "23697          196.0            602.0  \n",
       "23698            NaN              NaN  \n",
       "\n",
       "[23699 rows x 22 columns]"
      ]
     },
     "execution_count": 1,
     "metadata": {},
     "output_type": "execute_result"
    },
    {
     "data": {
      "image/png": "[encoded data removed]",
      "text/plain": [
       "<Figure size 1080x1440 with 20 Axes>"
      ]
     },
     "metadata": {
      "needs_background": "light"
     },
     "output_type": "display_data"
    }
   ],
   "source": [
    "import pandas as pd\n",
    "import numpy as np\n",
    "data=pd.read_csv('/datasets/real_estate_data.csv', sep='\\t')\n",
    "data.info()\n",
    "data.hist(figsize=(15, 20));\n",
    "data"
   ]
  },
  {
   "cell_type": "markdown",
   "metadata": {},
   "source": [
    "Вывод: по результатам рассмотрения исходной базы данных можно сделать выводы:\n",
    "        - формат даты не отображает времени\n",
    "        - в столбце ceiling_height, balcony, is_apartment, ponds_nearest, parks_nearest, days_exposition, kitchen_area имеются пропуски\n",
    "        - в столбце floors_total формат float64, а данные предполагают целочисленное отображение"
   ]
  },
  {
   "cell_type": "markdown",
   "metadata": {},
   "source": [
    "### Предобработка данных"
   ]
  },
  {
   "cell_type": "code",
   "execution_count": 2,
   "metadata": {
    "scrolled": true
   },
   "outputs": [
    {
     "data": {
      "text/plain": [
       "total_images                0\n",
       "last_price                  0\n",
       "total_area                  0\n",
       "first_day_exposition        0\n",
       "rooms                       0\n",
       "ceiling_height           9195\n",
       "floors_total               86\n",
       "living_area              1903\n",
       "floor                       0\n",
       "is_apartment            20924\n",
       "studio                      0\n",
       "open_plan                   0\n",
       "kitchen_area             2278\n",
       "balcony                 11519\n",
       "locality_name              49\n",
       "airports_nearest         5542\n",
       "cityCenters_nearest      5519\n",
       "parks_around3000         5518\n",
       "parks_nearest           15620\n",
       "ponds_around3000         5518\n",
       "ponds_nearest           14589\n",
       "days_exposition          3181\n",
       "dtype: int64"
      ]
     },
     "metadata": {},
     "output_type": "display_data"
    }
   ],
   "source": [
    "#выведем количество ячеек с нулевыми значениями в столбцах датафрейма\n",
    "display(data.isna().sum())\n",
    "\n",
    "\n",
    "#нулевые значения в столбце 'is_apartment' заменим на 'False'\n",
    "data['is_apartment']=data['is_apartment'].fillna(False)\n",
    "\n",
    "#заполним нулевые значения\n",
    "data['balcony']=data['balcony'].fillna(0)"
   ]
  },
  {
   "cell_type": "markdown",
   "metadata": {},
   "source": [
    "Вывод: столбец is_apartment логического типа, поэтому пропущенные значения заменены на False.\n",
    "Столбцы kitchen_area,balcony с промущенными значениями из-за отсутствия кухни и балконов соответственно. \n",
    "Столбцы cityCenters_nearest, airports_nearest,parks_around3000,parks_nearest,ponds_around3000,ponds_nearest\n",
    "c пропущенными значениями из-за нахождения в центре недвижимости, отсутствия аэропорта вблизи, парков в радиусе 3 км, прудов. Характер ошибки для столбца days_exposition наиболее вероятен из-за того, что квартиру ввели в базу, но не выставили на продажу по неясным причинам."
   ]
  },
  {
   "cell_type": "code",
   "execution_count": 3,
   "metadata": {},
   "outputs": [],
   "source": [
    "#формат даты без указания времени. Необходимо скорректировать в формат г.м.д\n",
    "data['first_day_exposition']=pd.to_datetime(data['first_day_exposition'], format='%Y.%m.%d')\n",
    "\n",
    "#Для некоторых столбцов, отображающих количество, скорректируем формат в int \n",
    "data['balcony'] = np.floor(pd.to_numeric(data['balcony'], errors='coerce')).astype('Int64')\n",
    "data['parks_around3000'] = np.floor(pd.to_numeric(data['parks_around3000'], errors='coerce')).astype('Int64')\n",
    "data['ponds_around3000'] = np.floor(pd.to_numeric(data['ponds_around3000'], errors='coerce')).astype('Int64')\n",
    "data['floors_total'] = np.floor(pd.to_numeric(data['floors_total'], errors='coerce')).astype('Int64')\n",
    "\n",
    "#удалим дубликаты\n",
    "\n",
    "data.dropna(subset=['floors_total'], inplace=True)\n",
    "data['floors_total']=data['floors_total'].astype('int')\n"
   ]
  },
  {
   "cell_type": "markdown",
   "metadata": {},
   "source": [
    "Вывод: Формат даты указан без значений времени. Переведен формат для удобство восприятия в г.м.д\n",
    "Данные в столбцах balcony,parks_around3000, ponds_around3000, floors_total предполагают количественное отображение балконов, парков, прудов, этажей, поэтому логичнее перевести формат ячеек в int"
   ]
  },
  {
   "cell_type": "code",
   "execution_count": 4,
   "metadata": {},
   "outputs": [
    {
     "data": {
      "text/plain": [
       "364"
      ]
     },
     "execution_count": 4,
     "metadata": {},
     "output_type": "execute_result"
    }
   ],
   "source": [
    "def ceil(row):\n",
    "    if row['ceiling_height']>14:\n",
    "        return row['ceiling_height']/10\n",
    "    else:\n",
    "        return row['ceiling_height']\n",
    "data['ceiling_height'] = data.apply(ceil, axis=1)\n",
    "\n",
    "\n",
    "def quart(df, column):\n",
    "    q1 = df[column].quantile(0.25)\n",
    "    q3 = df[column].quantile(0.75)\n",
    "    iqr = q3 - q1\n",
    "    total = df.loc[(df[column] < q3 + 1.5*iqr) & (df[column] > q1 - 1.5*iqr), column]\n",
    "    return total\n",
    "\n",
    "column_anomaly = ['last_price', 'total_area', 'rooms']\n",
    "for col in column_anomaly:\n",
    "    data[col] = quart(data, col)\n",
    "data['locality_name'].nunique()"
   ]
  },
  {
   "cell_type": "markdown",
   "metadata": {},
   "source": [
    "Вывод: Высота потолков в некоторых строках более 14 м. Написана функция, возвращающая значения в столбец ceiling_height, которые более 14 м, деленные на 10. Аномальные выбросы данных удалены по 1,5 размаху в столбцах со стоимостью квартиры, количеством комнат и общей площадью"
   ]
  },
  {
   "cell_type": "code",
   "execution_count": 5,
   "metadata": {},
   "outputs": [],
   "source": [
    "data['locality_name'] = data['locality_name'].str.replace('городской поселок ',\n",
    "                                                        '',\n",
    "                                                        case = False)\n",
    "data['locality_name'] = data['locality_name'].str.replace('деревня ',\n",
    "                                                        '',\n",
    "                                                        case = False)\n",
    "data['locality_name'] = data['locality_name'].str.replace('поселок городского типа ',\n",
    "                                                        '',\n",
    "                                                        case = False)\n",
    "data['locality_name'] = data['locality_name'].str.replace('поселок ',\n",
    "                                                        '',\n",
    "                                                        case = False)\n",
    "data['locality_name'] = data['locality_name'].str.replace('садоводческое некоммерческое товарищество ',\n",
    "                                                        '',\n",
    "                                                        case = False)\n",
    "data['locality_name'] = data['locality_name'].str.replace('село ',\n",
    "                                                        '',\n",
    "                                                        case = False)\n",
    "data['locality_name'] = data['locality_name'].str.replace('садовое товарищество ',\n",
    "                                                        '',\n",
    "                                                        case = False)\n",
    "data['locality_name'] = data['locality_name'].str.replace('садовое товарищество ',\n",
    "                                                        '',\n",
    "                                                        case = False)\n",
    "data['locality_name'] = data['locality_name'].str.replace('при железнодорожной станции ',\n",
    "                                                        '',\n",
    "                                                        case = False)\n",
    "data['locality_name'] = data['locality_name'].str.replace('станции ',\n",
    "                                                        '',\n",
    "                                                        case = False)\n",
    "data['locality_name'] = data['locality_name'].str.replace('коттеджный ',\n",
    "                                                        '',\n",
    "                                                        case = False)\n",
    "data.drop_duplicates()\n",
    "data.dropna(subset=['locality_name'], inplace=True)"
   ]
  },
  {
   "cell_type": "markdown",
   "metadata": {},
   "source": [
    "### Посчитайте и добавьте в таблицу новые столбцы"
   ]
  },
  {
   "cell_type": "code",
   "execution_count": 6,
   "metadata": {},
   "outputs": [],
   "source": [
    "#расчет стоимость одного квадратного метра\n",
    "data['price_per_square_meter']=data['last_price']/data['total_area']\n",
    "#добавление дня недели, месяца,года публикации объявления в датафрейм\n",
    "data['weekday']=data['first_day_exposition'].dt.weekday\n",
    "data['month']=data['first_day_exposition'].dt.month\n",
    "data['year']=data['first_day_exposition'].dt.year\n",
    "#функция по определению этажности\n",
    "def class_of_floor(row):\n",
    "    if row['floor'] == 1:\n",
    "        return 'первый'\n",
    "    elif row['floor'] == row['floors_total']:\n",
    "        return 'последний'\n",
    "    else:\n",
    "        return 'другой'\n",
    "#Добавление типа этажности и растояния до центра города в км\n",
    "data['type_of_floor'] = data.apply(class_of_floor, axis=1)\n",
    "data['cityCenters_nearest']=data['cityCenters_nearest'].fillna(0)\n",
    "data['cityCenters_nearest_km']=round((data['cityCenters_nearest']/1000),0).astype('int')"
   ]
  },
  {
   "cell_type": "markdown",
   "metadata": {},
   "source": [
    "### Проведите исследовательский анализ данных"
   ]
  },
  {
   "cell_type": "markdown",
   "metadata": {},
   "source": [
    "4.1 Изучение параметров объектов (построение гистограмм)"
   ]
  },
  {
   "cell_type": "code",
   "execution_count": 7,
   "metadata": {},
   "outputs": [
    {
     "data": {
      "text/plain": [
       "<AxesSubplot:title={'center':'Месяц публикации объявления'}, ylabel='Frequency'>"
      ]
     },
     "execution_count": 7,
     "metadata": {},
     "output_type": "execute_result"
    },
    {
     "data": {
      "image/png": "[encoded data removed]",
      "text/plain": [
       "<Figure size 432x288 with 1 Axes>"
      ]
     },
     "metadata": {
      "needs_background": "light"
     },
     "output_type": "display_data"
    },
    {
     "data": {
      "image/png": "[encoded data removed]",
      "text/plain": [
       "<Figure size 432x288 with 1 Axes>"
      ]
     },
     "metadata": {
      "needs_background": "light"
     },
     "output_type": "display_data"
    },
    {
     "data": {
      "image/png": "[encoded data removed]",
      "text/plain": [
       "<Figure size 432x288 with 1 Axes>"
      ]
     },
     "metadata": {
      "needs_background": "light"
     },
     "output_type": "display_data"
    },
    {
     "data": {
      "image/png": "[encoded data removed]",
      "text/plain": [
       "<Figure size 432x288 with 1 Axes>"
      ]
     },
     "metadata": {
      "needs_background": "light"
     },
     "output_type": "display_data"
    },
    {
     "data": {
      "image/png": "[encoded data removed]",
      "text/plain": [
       "<Figure size 432x288 with 1 Axes>"
      ]
     },
     "metadata": {
      "needs_background": "light"
     },
     "output_type": "display_data"
    },
    {
     "data": {
      "image/png": "[encoded data removed]",
      "text/plain": [
       "<Figure size 432x288 with 1 Axes>"
      ]
     },
     "metadata": {
      "needs_background": "light"
     },
     "output_type": "display_data"
    },
    {
     "data": {
      "image/png": "[encoded data removed]",
      "text/plain": [
       "<Figure size 432x288 with 1 Axes>"
      ]
     },
     "metadata": {
      "needs_background": "light"
     },
     "output_type": "display_data"
    },
    {
     "data": {
      "image/png": "[encoded data removed]",
      "text/plain": [
       "<Figure size 432x288 with 1 Axes>"
      ]
     },
     "metadata": {
      "needs_background": "light"
     },
     "output_type": "display_data"
    },
    {
     "data": {
      "image/png": "[encoded data removed]",
      "text/plain": [
       "<Figure size 432x288 with 1 Axes>"
      ]
     },
     "metadata": {
      "needs_background": "light"
     },
     "output_type": "display_data"
    },
    {
     "data": {
      "image/png": "[encoded data removed]",
      "text/plain": [
       "<Figure size 432x288 with 1 Axes>"
      ]
     },
     "metadata": {
      "needs_background": "light"
     },
     "output_type": "display_data"
    },
    {
     "data": {
      "image/png": "[encoded data removed]",
      "text/plain": [
       "<Figure size 432x288 with 1 Axes>"
      ]
     },
     "metadata": {
      "needs_background": "light"
     },
     "output_type": "display_data"
    },
    {
     "data": {
      "image/png": "[encoded data removed]",
      "text/plain": [
       "<Figure size 432x288 with 1 Axes>"
      ]
     },
     "metadata": {
      "needs_background": "light"
     },
     "output_type": "display_data"
    },
    {
     "data": {
      "image/png": "[encoded data removed]",
      "text/plain": [
       "<Figure size 432x288 with 1 Axes>"
      ]
     },
     "metadata": {
      "needs_background": "light"
     },
     "output_type": "display_data"
    },
    {
     "data": {
      "image/png": "[encoded data removed]",
      "text/plain": [
       "<Figure size 432x288 with 1 Axes>"
      ]
     },
     "metadata": {
      "needs_background": "light"
     },
     "output_type": "display_data"
    }
   ],
   "source": [
    "data.plot(kind='hist', y='total_area',title='Общая площадь', bins=100,range=(0,200))\n",
    "data.plot(kind='hist', y='living_area',title='Жилая площадь', bins=6)\n",
    "data.plot(kind='hist', y='kitchen_area',title='Площадь кухни', bins=6)\n",
    "data.plot(kind='hist', y='last_price',title='Цена объекта', bins=20,range=(0,30000000) )\n",
    "data.plot(kind='hist', y='rooms',title='Количество комнат', bins=10)\n",
    "data.plot(kind='hist', y='ceiling_height',title='Высота потолков', bins=20,range=(0,4)) \n",
    "data.plot(kind='hist', y='floor',title='Этаж квартиры', bins=20)\n",
    "price_rooms=data.pivot_table(index='type_of_floor', values='last_price', aggfunc='count')\n",
    "price_rooms.columns=['median']\n",
    "price_rooms.plot(y='median', style='-0',title='тип этажа квартиры («первый», «последний», «другой»)')\n",
    "data.plot(kind='hist', y='floors_total',title='Общее количество этажей в доме', bins=60)\n",
    "data.plot(kind='hist', y='cityCenters_nearest',title='Расстояние до центра города в метрах', bins=60)\n",
    "data.plot(kind='hist', y='airports_nearest',title='Расстояние до ближайшего аэропорта', bins=60)\n",
    "data.plot(kind='hist', y='parks_nearest',title='Расстояние до ближайшего парка', bins=60)\n",
    "data.plot(kind='hist', y='weekday',title='День публикации объявления', bins=60)\n",
    "data.plot(kind='hist', y='month',title='Месяц публикации объявления', bins=60)"
   ]
  },
  {
   "cell_type": "markdown",
   "metadata": {},
   "source": [
    "Изучены и построены гистограммы для следующих параметров объектов: \n",
    "\n",
    "общая площадь- по графику можно сделать вывод, что средняя площадь квартиры 52 м.кв.\n",
    "\n",
    "жилая площадь-результат аналогичен данным по общей площади\n",
    "\n",
    "площадь кухни-наиболее часто площадь кухни составляет (0-20 кв.м)\n",
    "\n",
    "цена объекта-наиболее часто встречаются квартиры стоимостью до 10 млн.руб.\n",
    "\n",
    "количество комнат- согласно гистограмме,основная доля продаваемых квартир-двухкомнатные \n",
    "\n",
    "высота потолков-диапазон наиболее часто встречающихся 2,5:3,5\n",
    "\n",
    "этаж квартиры-этажность свидетельствует о преобладании 10 и менее этажных домов\n",
    "\n",
    "тип этажа квартиры («первый», «последний», «другой»)-последних и первых этажей в выборке значительно меньше остальных\n",
    "\n",
    "общее количество этажей в доме-этажность свидетельствует о преобладании 10 и менее этажных домов\n",
    "\n",
    "расстояние до центра города в метрах-основная масса недвижимости сосредоточена в радиусе 20 км\n",
    "\n",
    "расстояние до ближайшего аэропорта-расстояние до аэропорта от 0 до 60 км\n",
    "\n",
    "расстояние до ближайшего парка-парки, при наличии, расположены на расстоянии до 1 км\n",
    "\n",
    "день и месяц публикации объявления-обьявления публикуются в будние дни больше,а в летний месяцы меньше"
   ]
  },
  {
   "cell_type": "markdown",
   "metadata": {},
   "source": [
    "4.2 Изучение времени продажи квартиры"
   ]
  },
  {
   "cell_type": "code",
   "execution_count": 8,
   "metadata": {},
   "outputs": [
    {
     "data": {
      "text/plain": [
       "'Среднее время продажи квартиры: 180.7413945278023'"
      ]
     },
     "metadata": {},
     "output_type": "display_data"
    },
    {
     "data": {
      "text/plain": [
       "'Медиана времени продажи квартиры: 95.0'"
      ]
     },
     "metadata": {},
     "output_type": "display_data"
    },
    {
     "data": {
      "image/png": "[encoded data removed]",
      "text/plain": [
       "<Figure size 432x288 with 1 Axes>"
      ]
     },
     "metadata": {
      "needs_background": "light"
     },
     "output_type": "display_data"
    }
   ],
   "source": [
    "#Анализ времени продажи квартиры\n",
    "data.plot(kind='hist', y='days_exposition',title='Время продажи квартиры', bins=50)\n",
    "display('Среднее время продажи квартиры: {}'.format(data['days_exposition'].mean()))\n",
    "display('Медиана времени продажи квартиры: {}'.format(data['days_exposition'].median()))"
   ]
  },
  {
   "cell_type": "markdown",
   "metadata": {},
   "source": [
    "Вывод:В виду того, что в выборке медиана составляет 73 дня, можно сделать вывод, что если длительность размещения обьявления менее 73 дней, продажу считаем быстрой"
   ]
  },
  {
   "cell_type": "markdown",
   "metadata": {},
   "source": [
    "4.3 Оценка влияния факторов на общую (полную стоимость объекта)"
   ]
  },
  {
   "cell_type": "code",
   "execution_count": 9,
   "metadata": {},
   "outputs": [
    {
     "data": {
      "text/plain": [
       "'Коэффициент корреляции для стоимости квадратного метра от общей площади'"
      ]
     },
     "metadata": {},
     "output_type": "display_data"
    },
    {
     "data": {
      "text/plain": [
       "0.7790658122333597"
      ]
     },
     "metadata": {},
     "output_type": "display_data"
    },
    {
     "data": {
      "text/plain": [
       "'Коэффициент корреляции для стоимости квадратного метра от жилой площади'"
      ]
     },
     "metadata": {},
     "output_type": "display_data"
    },
    {
     "data": {
      "text/plain": [
       "0.6650563050663457"
      ]
     },
     "metadata": {},
     "output_type": "display_data"
    },
    {
     "data": {
      "text/plain": [
       "'Коэффициент корреляции для стоимости квадратного метра от площади кухни'"
      ]
     },
     "metadata": {},
     "output_type": "display_data"
    },
    {
     "data": {
      "text/plain": [
       "0.5461381770667585"
      ]
     },
     "metadata": {},
     "output_type": "display_data"
    },
    {
     "data": {
      "text/plain": [
       "'Коэффициент корреляции для стоимости квадратного метра от количества комнат'"
      ]
     },
     "metadata": {},
     "output_type": "display_data"
    },
    {
     "data": {
      "text/plain": [
       "0.5647311325004367"
      ]
     },
     "metadata": {},
     "output_type": "display_data"
    },
    {
     "data": {
      "text/plain": [
       "<AxesSubplot:title={'center':'Зависимость цены квартиры от года размещения'}, xlabel='year'>"
      ]
     },
     "execution_count": 9,
     "metadata": {},
     "output_type": "execute_result"
    },
    {
     "data": {
      "image/png": "[encoded data removed]",
      "text/plain": [
       "<Figure size 432x288 with 1 Axes>"
      ]
     },
     "metadata": {
      "needs_background": "light"
     },
     "output_type": "display_data"
    },
    {
     "data": {
      "image/png": "[encoded data removed]",
      "text/plain": [
       "<Figure size 432x288 with 1 Axes>"
      ]
     },
     "metadata": {
      "needs_background": "light"
     },
     "output_type": "display_data"
    },
    {
     "data": {
      "image/png": "[encoded data removed]",
      "text/plain": [
       "<Figure size 432x288 with 1 Axes>"
      ]
     },
     "metadata": {
      "needs_background": "light"
     },
     "output_type": "display_data"
    },
    {
     "data": {
      "image/png": "[encoded data removed]",
      "text/plain": [
       "<Figure size 432x288 with 1 Axes>"
      ]
     },
     "metadata": {
      "needs_background": "light"
     },
     "output_type": "display_data"
    },
    {
     "data": {
      "image/png": "[encoded data removed]",
      "text/plain": [
       "<Figure size 432x288 with 1 Axes>"
      ]
     },
     "metadata": {
      "needs_background": "light"
     },
     "output_type": "display_data"
    },
    {
     "data": {
      "image/png": "[encoded data removed]",
      "text/plain": [
       "<Figure size 432x288 with 1 Axes>"
      ]
     },
     "metadata": {
      "needs_background": "light"
     },
     "output_type": "display_data"
    },
    {
     "data": {
      "image/png": "[encoded data removed]",
      "text/plain": [
       "<Figure size 432x288 with 1 Axes>"
      ]
     },
     "metadata": {
      "needs_background": "light"
     },
     "output_type": "display_data"
    },
    {
     "data": {
      "image/png": "[encoded data removed]",
      "text/plain": [
       "<Figure size 432x288 with 1 Axes>"
      ]
     },
     "metadata": {
      "needs_background": "light"
     },
     "output_type": "display_data"
    }
   ],
   "source": [
    "\n",
    "price_area=data.pivot_table(index='last_price', values='total_area', aggfunc='median')\n",
    "price_area.columns=['median']\n",
    "price_area.plot(y='median', style='o',title='Зависимость цены квартиры от общей площади')\n",
    "price_area=price_area.reset_index()\n",
    "display('Коэффициент корреляции для стоимости квадратного метра от общей площади',price_area['last_price'].corr(price_area['median']))\n",
    "\n",
    "\n",
    "price_living_area=data.pivot_table(index='last_price', values='living_area', aggfunc='median')\n",
    "price_living_area.columns=['median']\n",
    "price_living_area.plot(y='median', style='o',title='Зависимость цены квартиры от жилой площади')\n",
    "price_living_area=price_living_area.reset_index()\n",
    "display('Коэффициент корреляции для стоимости квадратного метра от жилой площади',price_living_area['last_price'].corr(price_living_area['median']))\n",
    "\n",
    "\n",
    "price_kitchen_area=data.pivot_table(index='last_price', values='kitchen_area', aggfunc='median')\n",
    "price_kitchen_area.columns=['median']\n",
    "price_kitchen_area.plot(y='median', style='o',title='Зависимость цены квартиры от площади кухни')\n",
    "price_kitchen_area=price_kitchen_area.reset_index()\n",
    "display('Коэффициент корреляции для стоимости квадратного метра от площади кухни',price_kitchen_area['last_price'].corr(price_kitchen_area['median']))\n",
    "\n",
    "\n",
    "price_rooms=data.pivot_table(index='last_price', values='rooms', aggfunc='median')\n",
    "price_rooms.columns=['median']\n",
    "price_rooms.plot(y='median', style='o',title='Зависимость цены квартиры от количества комнат')\n",
    "price_rooms=price_rooms.reset_index()\n",
    "display('Коэффициент корреляции для стоимости квадратного метра от количества комнат',price_rooms['last_price'].corr(price_rooms['median']))\n",
    "\n",
    "\n",
    "\n",
    "price_rooms=data.pivot_table(index='type_of_floor', values='last_price', aggfunc='median')\n",
    "price_rooms.columns=['median']\n",
    "price_rooms.plot(y='median', style='-0',title='Зависимость этажа на котором расположена квартира(первый, последний, другой) от количества комнат')\n",
    "\n",
    "\n",
    "price_weekday=data.pivot_table(index='weekday', values='last_price', aggfunc='median')\n",
    "price_weekday.columns=['median']\n",
    "price_weekday.plot(y='median', style='-o',title='Зависимость цены квартиры от дня размещения')\n",
    "\n",
    "price_month=data.pivot_table(index='month', values='last_price', aggfunc='median')\n",
    "price_month.columns=['median']\n",
    "price_month.plot(y='median', style='-o',title='Зависимость цены квартиры от месяца размещения')\n",
    "\n",
    "price_year=data.pivot_table(index='year', values='last_price', aggfunc='median')\n",
    "price_year.columns=['median']\n",
    "price_year.plot(y='median', style='-o',title='Зависимость цены квартиры от года размещения')"
   ]
  },
  {
   "cell_type": "markdown",
   "metadata": {},
   "source": [
    "Вывод: Наиболее заметная зависимость межде ценой и следующими параметрами:\n",
    "\n",
    "Общая площадь-коэффициент корреляции для стоимости квадратного метра от общей площади 0.6885562309174611\n",
    "\n",
    "Жилая площадь- коэффициент корреляции для стоимости квадратного метра от жилой площади 0.635448770208018\n",
    "\n",
    "Площадь кухни- коэффициент корреляции для стоимости квадратного метра от площади кухни 0.5816189445354518\n",
    "\n",
    "Количество комнат- коэффициент корреляции для стоимости квадратного метра от количества комнат 0.4419359581709397\n",
    "\n",
    "Этажность- дешевле квартиры на первом и последних этажах\n",
    "\n",
    "Квартиры в начале неделя размещаются с большей величиной стоимости, чем в конце недели\n",
    "\n",
    "Месяц размещения: стоимость выше в апреле, а самая низкая в июне\n",
    "\n",
    "Год размещения: прослеживается падение стоимости квартир до 2017 года. Далее идет рост стоимости"
   ]
  },
  {
   "cell_type": "markdown",
   "metadata": {},
   "source": [
    "4.4 Средняя цена одного квадратного метра в 10 населенных пунктах с наибольшим числом объявлений"
   ]
  },
  {
   "cell_type": "code",
   "execution_count": 10,
   "metadata": {},
   "outputs": [
    {
     "data": {
      "text/html": [
       "<div>\n",
       "<style scoped>\n",
       "    .dataframe tbody tr th:only-of-type {\n",
       "        vertical-align: middle;\n",
       "    }\n",
       "\n",
       "    .dataframe tbody tr th {\n",
       "        vertical-align: top;\n",
       "    }\n",
       "\n",
       "    .dataframe thead th {\n",
       "        text-align: right;\n",
       "    }\n",
       "</style>\n",
       "<table border=\"1\" class=\"dataframe\">\n",
       "  <thead>\n",
       "    <tr style=\"text-align: right;\">\n",
       "      <th></th>\n",
       "      <th>median</th>\n",
       "      <th>mean</th>\n",
       "      <th>count</th>\n",
       "    </tr>\n",
       "    <tr>\n",
       "      <th>locality_name</th>\n",
       "      <th></th>\n",
       "      <th></th>\n",
       "      <th></th>\n",
       "    </tr>\n",
       "  </thead>\n",
       "  <tbody>\n",
       "    <tr>\n",
       "      <th>Санкт-Петербург</th>\n",
       "      <td>5150000.0</td>\n",
       "      <td>5.664535e+06</td>\n",
       "      <td>13679</td>\n",
       "    </tr>\n",
       "    <tr>\n",
       "      <th>посёлок Мурино</th>\n",
       "      <td>3400000.0</td>\n",
       "      <td>3.671211e+06</td>\n",
       "      <td>520</td>\n",
       "    </tr>\n",
       "    <tr>\n",
       "      <th>Кудрово</th>\n",
       "      <td>3875000.0</td>\n",
       "      <td>4.318378e+06</td>\n",
       "      <td>468</td>\n",
       "    </tr>\n",
       "    <tr>\n",
       "      <th>посёлок Шушары</th>\n",
       "      <td>3950000.0</td>\n",
       "      <td>4.109809e+06</td>\n",
       "      <td>439</td>\n",
       "    </tr>\n",
       "    <tr>\n",
       "      <th>Всеволожск</th>\n",
       "      <td>3450000.0</td>\n",
       "      <td>3.737119e+06</td>\n",
       "      <td>397</td>\n",
       "    </tr>\n",
       "    <tr>\n",
       "      <th>Пушкин</th>\n",
       "      <td>4970000.0</td>\n",
       "      <td>5.334385e+06</td>\n",
       "      <td>338</td>\n",
       "    </tr>\n",
       "    <tr>\n",
       "      <th>Колпино</th>\n",
       "      <td>3600000.0</td>\n",
       "      <td>3.839849e+06</td>\n",
       "      <td>336</td>\n",
       "    </tr>\n",
       "    <tr>\n",
       "      <th>посёлок Парголово</th>\n",
       "      <td>4100000.0</td>\n",
       "      <td>4.488075e+06</td>\n",
       "      <td>327</td>\n",
       "    </tr>\n",
       "    <tr>\n",
       "      <th>Гатчина</th>\n",
       "      <td>3090000.0</td>\n",
       "      <td>3.423998e+06</td>\n",
       "      <td>305</td>\n",
       "    </tr>\n",
       "    <tr>\n",
       "      <th>Выборг</th>\n",
       "      <td>2873500.0</td>\n",
       "      <td>3.180055e+06</td>\n",
       "      <td>236</td>\n",
       "    </tr>\n",
       "  </tbody>\n",
       "</table>\n",
       "</div>"
      ],
      "text/plain": [
       "                      median          mean  count\n",
       "locality_name                                    \n",
       "Санкт-Петербург    5150000.0  5.664535e+06  13679\n",
       "посёлок Мурино     3400000.0  3.671211e+06    520\n",
       "Кудрово            3875000.0  4.318378e+06    468\n",
       "посёлок Шушары     3950000.0  4.109809e+06    439\n",
       "Всеволожск         3450000.0  3.737119e+06    397\n",
       "Пушкин             4970000.0  5.334385e+06    338\n",
       "Колпино            3600000.0  3.839849e+06    336\n",
       "посёлок Парголово  4100000.0  4.488075e+06    327\n",
       "Гатчина            3090000.0  3.423998e+06    305\n",
       "Выборг             2873500.0  3.180055e+06    236"
      ]
     },
     "metadata": {},
     "output_type": "display_data"
    },
    {
     "data": {
      "text/plain": [
       "'Средняя стоимость одного квадратного метра'"
      ]
     },
     "metadata": {},
     "output_type": "display_data"
    },
    {
     "data": {
      "text/plain": [
       "3845850.0"
      ]
     },
     "metadata": {},
     "output_type": "display_data"
    },
    {
     "data": {
      "text/plain": [
       "'Населенный пункт с самой высокой стоимостью квадратного метра'"
      ]
     },
     "metadata": {},
     "output_type": "display_data"
    },
    {
     "data": {
      "text/html": [
       "<div>\n",
       "<style scoped>\n",
       "    .dataframe tbody tr th:only-of-type {\n",
       "        vertical-align: middle;\n",
       "    }\n",
       "\n",
       "    .dataframe tbody tr th {\n",
       "        vertical-align: top;\n",
       "    }\n",
       "\n",
       "    .dataframe thead th {\n",
       "        text-align: right;\n",
       "    }\n",
       "</style>\n",
       "<table border=\"1\" class=\"dataframe\">\n",
       "  <thead>\n",
       "    <tr style=\"text-align: right;\">\n",
       "      <th></th>\n",
       "      <th>median</th>\n",
       "      <th>mean</th>\n",
       "      <th>count</th>\n",
       "    </tr>\n",
       "    <tr>\n",
       "      <th>locality_name</th>\n",
       "      <th></th>\n",
       "      <th></th>\n",
       "      <th></th>\n",
       "    </tr>\n",
       "  </thead>\n",
       "  <tbody>\n",
       "    <tr>\n",
       "      <th>Санкт-Петербург</th>\n",
       "      <td>5150000.0</td>\n",
       "      <td>5.664535e+06</td>\n",
       "      <td>13679</td>\n",
       "    </tr>\n",
       "  </tbody>\n",
       "</table>\n",
       "</div>"
      ],
      "text/plain": [
       "                    median          mean  count\n",
       "locality_name                                  \n",
       "Санкт-Петербург  5150000.0  5.664535e+06  13679"
      ]
     },
     "metadata": {},
     "output_type": "display_data"
    },
    {
     "data": {
      "text/plain": [
       "'Населенный пункт с самой низкой стоимостью квадратного метра'"
      ]
     },
     "metadata": {},
     "output_type": "display_data"
    },
    {
     "data": {
      "text/html": [
       "<div>\n",
       "<style scoped>\n",
       "    .dataframe tbody tr th:only-of-type {\n",
       "        vertical-align: middle;\n",
       "    }\n",
       "\n",
       "    .dataframe tbody tr th {\n",
       "        vertical-align: top;\n",
       "    }\n",
       "\n",
       "    .dataframe thead th {\n",
       "        text-align: right;\n",
       "    }\n",
       "</style>\n",
       "<table border=\"1\" class=\"dataframe\">\n",
       "  <thead>\n",
       "    <tr style=\"text-align: right;\">\n",
       "      <th></th>\n",
       "      <th>median</th>\n",
       "      <th>mean</th>\n",
       "      <th>count</th>\n",
       "    </tr>\n",
       "    <tr>\n",
       "      <th>locality_name</th>\n",
       "      <th></th>\n",
       "      <th></th>\n",
       "      <th></th>\n",
       "    </tr>\n",
       "  </thead>\n",
       "  <tbody>\n",
       "    <tr>\n",
       "      <th>Выборг</th>\n",
       "      <td>2873500.0</td>\n",
       "      <td>3.180055e+06</td>\n",
       "      <td>236</td>\n",
       "    </tr>\n",
       "  </tbody>\n",
       "</table>\n",
       "</div>"
      ],
      "text/plain": [
       "                  median          mean  count\n",
       "locality_name                                \n",
       "Выборг         2873500.0  3.180055e+06    236"
      ]
     },
     "metadata": {},
     "output_type": "display_data"
    }
   ],
   "source": [
    "price_total=data.pivot_table(index='locality_name', values='last_price', aggfunc=['median','mean','count'])\n",
    "price_total.columns=['median','mean','count']\n",
    "price_total=price_total.sort_values(by='count', ascending=False)\n",
    "price_total_top_10=price_total.iloc[[0,1,2,3,4,5,6,7,8,9]]\n",
    "display(price_total_top_10)\n",
    "display('Средняя стоимость одного квадратного метра',round(price_total_top_10['median'].mean(),1))\n",
    "\n",
    "price_max=price_total_top_10['mean'].max()\n",
    "price_min=price_total_top_10['mean'].min()\n",
    "display('Населенный пункт с самой высокой стоимостью квадратного метра', price_total_top_10.query('mean==@price_max'))\n",
    "display('Населенный пункт с самой низкой стоимостью квадратного метра', price_total_top_10.query('mean==@price_min'))    "
   ]
  },
  {
   "cell_type": "markdown",
   "metadata": {},
   "source": [
    "4.5 Расчет стоимости каждого километра при отдаленности от центра Санкт-Петербурга"
   ]
  },
  {
   "cell_type": "code",
   "execution_count": 11,
   "metadata": {},
   "outputs": [
    {
     "data": {
      "text/html": [
       "<div>\n",
       "<style scoped>\n",
       "    .dataframe tbody tr th:only-of-type {\n",
       "        vertical-align: middle;\n",
       "    }\n",
       "\n",
       "    .dataframe tbody tr th {\n",
       "        vertical-align: top;\n",
       "    }\n",
       "\n",
       "    .dataframe thead th {\n",
       "        text-align: right;\n",
       "    }\n",
       "</style>\n",
       "<table border=\"1\" class=\"dataframe\">\n",
       "  <thead>\n",
       "    <tr style=\"text-align: right;\">\n",
       "      <th></th>\n",
       "      <th>cityCenters_nearest_km</th>\n",
       "      <th>median</th>\n",
       "      <th>mean</th>\n",
       "      <th>count</th>\n",
       "    </tr>\n",
       "  </thead>\n",
       "  <tbody>\n",
       "    <tr>\n",
       "      <th>0</th>\n",
       "      <td>0</td>\n",
       "      <td>111050.783950</td>\n",
       "      <td>121525.413475</td>\n",
       "      <td>50</td>\n",
       "    </tr>\n",
       "    <tr>\n",
       "      <th>1</th>\n",
       "      <td>1</td>\n",
       "      <td>114228.723404</td>\n",
       "      <td>122076.368924</td>\n",
       "      <td>95</td>\n",
       "    </tr>\n",
       "    <tr>\n",
       "      <th>2</th>\n",
       "      <td>2</td>\n",
       "      <td>112307.692308</td>\n",
       "      <td>116427.366314</td>\n",
       "      <td>169</td>\n",
       "    </tr>\n",
       "    <tr>\n",
       "      <th>3</th>\n",
       "      <td>3</td>\n",
       "      <td>105250.000000</td>\n",
       "      <td>110202.407357</td>\n",
       "      <td>236</td>\n",
       "    </tr>\n",
       "    <tr>\n",
       "      <th>4</th>\n",
       "      <td>4</td>\n",
       "      <td>110958.904110</td>\n",
       "      <td>116456.849611</td>\n",
       "      <td>433</td>\n",
       "    </tr>\n",
       "    <tr>\n",
       "      <th>5</th>\n",
       "      <td>5</td>\n",
       "      <td>117391.304348</td>\n",
       "      <td>121135.474717</td>\n",
       "      <td>573</td>\n",
       "    </tr>\n",
       "    <tr>\n",
       "      <th>6</th>\n",
       "      <td>6</td>\n",
       "      <td>117985.611511</td>\n",
       "      <td>122722.472000</td>\n",
       "      <td>403</td>\n",
       "    </tr>\n",
       "    <tr>\n",
       "      <th>7</th>\n",
       "      <td>7</td>\n",
       "      <td>113686.534216</td>\n",
       "      <td>116559.983829</td>\n",
       "      <td>285</td>\n",
       "    </tr>\n",
       "    <tr>\n",
       "      <th>8</th>\n",
       "      <td>8</td>\n",
       "      <td>113911.657559</td>\n",
       "      <td>115926.675728</td>\n",
       "      <td>464</td>\n",
       "    </tr>\n",
       "    <tr>\n",
       "      <th>9</th>\n",
       "      <td>9</td>\n",
       "      <td>103448.275862</td>\n",
       "      <td>106355.439348</td>\n",
       "      <td>519</td>\n",
       "    </tr>\n",
       "    <tr>\n",
       "      <th>10</th>\n",
       "      <td>10</td>\n",
       "      <td>105510.138461</td>\n",
       "      <td>108313.694927</td>\n",
       "      <td>648</td>\n",
       "    </tr>\n",
       "    <tr>\n",
       "      <th>11</th>\n",
       "      <td>11</td>\n",
       "      <td>102240.896359</td>\n",
       "      <td>104382.757213</td>\n",
       "      <td>1075</td>\n",
       "    </tr>\n",
       "    <tr>\n",
       "      <th>12</th>\n",
       "      <td>12</td>\n",
       "      <td>102817.460317</td>\n",
       "      <td>105706.123995</td>\n",
       "      <td>1514</td>\n",
       "    </tr>\n",
       "    <tr>\n",
       "      <th>13</th>\n",
       "      <td>13</td>\n",
       "      <td>103160.337553</td>\n",
       "      <td>106262.265554</td>\n",
       "      <td>1363</td>\n",
       "    </tr>\n",
       "    <tr>\n",
       "      <th>14</th>\n",
       "      <td>14</td>\n",
       "      <td>101268.086817</td>\n",
       "      <td>103488.334105</td>\n",
       "      <td>1226</td>\n",
       "    </tr>\n",
       "    <tr>\n",
       "      <th>15</th>\n",
       "      <td>15</td>\n",
       "      <td>100000.000000</td>\n",
       "      <td>102457.209582</td>\n",
       "      <td>1470</td>\n",
       "    </tr>\n",
       "    <tr>\n",
       "      <th>16</th>\n",
       "      <td>16</td>\n",
       "      <td>97049.148607</td>\n",
       "      <td>99406.368390</td>\n",
       "      <td>1234</td>\n",
       "    </tr>\n",
       "    <tr>\n",
       "      <th>17</th>\n",
       "      <td>17</td>\n",
       "      <td>93959.731544</td>\n",
       "      <td>95693.170836</td>\n",
       "      <td>836</td>\n",
       "    </tr>\n",
       "    <tr>\n",
       "      <th>18</th>\n",
       "      <td>18</td>\n",
       "      <td>95000.000000</td>\n",
       "      <td>96163.550061</td>\n",
       "      <td>251</td>\n",
       "    </tr>\n",
       "    <tr>\n",
       "      <th>19</th>\n",
       "      <td>19</td>\n",
       "      <td>96168.478261</td>\n",
       "      <td>97457.701416</td>\n",
       "      <td>152</td>\n",
       "    </tr>\n",
       "    <tr>\n",
       "      <th>20</th>\n",
       "      <td>20</td>\n",
       "      <td>103703.693333</td>\n",
       "      <td>103045.181922</td>\n",
       "      <td>49</td>\n",
       "    </tr>\n",
       "    <tr>\n",
       "      <th>21</th>\n",
       "      <td>21</td>\n",
       "      <td>89602.941176</td>\n",
       "      <td>94464.856891</td>\n",
       "      <td>116</td>\n",
       "    </tr>\n",
       "    <tr>\n",
       "      <th>22</th>\n",
       "      <td>22</td>\n",
       "      <td>88753.002114</td>\n",
       "      <td>90584.428836</td>\n",
       "      <td>197</td>\n",
       "    </tr>\n",
       "    <tr>\n",
       "      <th>23</th>\n",
       "      <td>23</td>\n",
       "      <td>90666.666667</td>\n",
       "      <td>92063.679612</td>\n",
       "      <td>83</td>\n",
       "    </tr>\n",
       "    <tr>\n",
       "      <th>24</th>\n",
       "      <td>24</td>\n",
       "      <td>86353.290416</td>\n",
       "      <td>85736.904595</td>\n",
       "      <td>26</td>\n",
       "    </tr>\n",
       "    <tr>\n",
       "      <th>25</th>\n",
       "      <td>25</td>\n",
       "      <td>93612.162162</td>\n",
       "      <td>91531.371618</td>\n",
       "      <td>26</td>\n",
       "    </tr>\n",
       "    <tr>\n",
       "      <th>26</th>\n",
       "      <td>26</td>\n",
       "      <td>87368.421053</td>\n",
       "      <td>87798.872892</td>\n",
       "      <td>43</td>\n",
       "    </tr>\n",
       "    <tr>\n",
       "      <th>27</th>\n",
       "      <td>27</td>\n",
       "      <td>70312.500000</td>\n",
       "      <td>70312.500000</td>\n",
       "      <td>1</td>\n",
       "    </tr>\n",
       "    <tr>\n",
       "      <th>28</th>\n",
       "      <td>28</td>\n",
       "      <td>79372.093023</td>\n",
       "      <td>81161.915320</td>\n",
       "      <td>7</td>\n",
       "    </tr>\n",
       "    <tr>\n",
       "      <th>29</th>\n",
       "      <td>29</td>\n",
       "      <td>76084.734212</td>\n",
       "      <td>72953.365445</td>\n",
       "      <td>6</td>\n",
       "    </tr>\n",
       "  </tbody>\n",
       "</table>\n",
       "</div>"
      ],
      "text/plain": [
       "    cityCenters_nearest_km         median           mean  count\n",
       "0                        0  111050.783950  121525.413475     50\n",
       "1                        1  114228.723404  122076.368924     95\n",
       "2                        2  112307.692308  116427.366314    169\n",
       "3                        3  105250.000000  110202.407357    236\n",
       "4                        4  110958.904110  116456.849611    433\n",
       "5                        5  117391.304348  121135.474717    573\n",
       "6                        6  117985.611511  122722.472000    403\n",
       "7                        7  113686.534216  116559.983829    285\n",
       "8                        8  113911.657559  115926.675728    464\n",
       "9                        9  103448.275862  106355.439348    519\n",
       "10                      10  105510.138461  108313.694927    648\n",
       "11                      11  102240.896359  104382.757213   1075\n",
       "12                      12  102817.460317  105706.123995   1514\n",
       "13                      13  103160.337553  106262.265554   1363\n",
       "14                      14  101268.086817  103488.334105   1226\n",
       "15                      15  100000.000000  102457.209582   1470\n",
       "16                      16   97049.148607   99406.368390   1234\n",
       "17                      17   93959.731544   95693.170836    836\n",
       "18                      18   95000.000000   96163.550061    251\n",
       "19                      19   96168.478261   97457.701416    152\n",
       "20                      20  103703.693333  103045.181922     49\n",
       "21                      21   89602.941176   94464.856891    116\n",
       "22                      22   88753.002114   90584.428836    197\n",
       "23                      23   90666.666667   92063.679612     83\n",
       "24                      24   86353.290416   85736.904595     26\n",
       "25                      25   93612.162162   91531.371618     26\n",
       "26                      26   87368.421053   87798.872892     43\n",
       "27                      27   70312.500000   70312.500000      1\n",
       "28                      28   79372.093023   81161.915320      7\n",
       "29                      29   76084.734212   72953.365445      6"
      ]
     },
     "metadata": {},
     "output_type": "display_data"
    },
    {
     "data": {
      "text/plain": [
       "'Коэффициент корреляции для стоимости квадратного метра от удаленности от центра'"
      ]
     },
     "metadata": {},
     "output_type": "display_data"
    },
    {
     "data": {
      "text/plain": [
       "-0.912304586470894"
      ]
     },
     "metadata": {},
     "output_type": "display_data"
    },
    {
     "data": {
      "image/png": "[encoded data removed]",
      "text/plain": [
       "<Figure size 432x288 with 1 Axes>"
      ]
     },
     "metadata": {
      "needs_background": "light"
     },
     "output_type": "display_data"
    }
   ],
   "source": [
    "km_spb=data.query('locality_name==\"Санкт-Петербург\"')\n",
    "price_spb_km=km_spb.pivot_table(index='cityCenters_nearest_km', values='price_per_square_meter', aggfunc=['median','mean','count'])\n",
    "price_spb_km.columns=['median','mean','count']\n",
    "price_spb_km=price_spb_km.reset_index()\n",
    "display(price_spb_km)\n",
    "price_spb_km.plot(y='median', style='-o',title='Зависимость стоимости квадратного метра от удаленности от центра города')\n",
    "display('Коэффициент корреляции для стоимости квадратного метра от удаленности от центра',price_spb_km['cityCenters_nearest_km'].corr(price_spb_km['median']))\n"
   ]
  },
  {
   "cell_type": "markdown",
   "metadata": {},
   "source": [
    "Вывод: согласно построенного графика и коэффициента корреляции, можно сделать вывод о том, что с удалением от центра стоимость недвижимости уменьшается. "
   ]
  },
  {
   "cell_type": "markdown",
   "metadata": {},
   "source": [
    "### Общий вывод"
   ]
  },
  {
   "cell_type": "markdown",
   "metadata": {},
   "source": [
    "Согласно задания были изучены данные сервиса Яндекс.Недвижимость — архив объявлений о продаже квартир в Санкт-Петербурге и соседних населённых пунктов за несколько лет. \n",
    "\n",
    "По результатам рассмотрения исходной базы данных можно сделать выводы:\n",
    "\n",
    "формат даты не отображает времени\n",
    "\n",
    "в столбцах ceiling_height, balcony, is_apartment, ponds_nearest, parks_nearest, days_exposition, kitchen_area имеются пропуски\n",
    "\n",
    "в столбце floors_total формат float64, а данные предполагают целочисленное отображение\n",
    "\n",
    "столбец is_apartment логического типа, поэтому пропущенные значения заменены на False.\n",
    "\n",
    "Столбцы kitchen_area,balcony с промущенными значениями из-за отсутствия кухни и балконов соответственно. \n",
    "\n",
    "Столбцы cityCenters_nearest, airports_nearest,parks_around3000,parks_nearest,ponds_around3000,ponds_nearest\n",
    "c пропущенными значениями из-за нахождения в центре недвижимости, отсутствия аэропорта вблизи, парков в радиусе 3 км, прудов. \n",
    "\n",
    "Характер ошибки для столбца days_exposition наиболее вероятен из-за того, что квартиру ввели в базу, но не выставили на продажу по неясным причинам.\n",
    "\n",
    "Формат даты указан без значений времени. Переведен формат для удобство восприятия в г.м.д\n",
    "\n",
    "Данные в столбцах balcony,parks_around3000, ponds_around3000, floors_total предполагают количественное отображение балконов, парков, прудов, этажей, поэтому логичнее перевести формат ячеек в int\n",
    "\n",
    "Высота потолков в некоторых строках более 14 м. Написана функция, возвращающая значения в столбец ceiling_height, которые более 14 м, деленные на 10. Аномальные выбросы данных удалены по 1,5 размаху в столбцах со стоимостью квартиры, количеством комнат и общей площадью\n",
    "\n",
    "Изучены и построены гистограммы для следующих параметров объектов: \n",
    "\n",
    "общая площадь- по графику можно сделать вывод, что средняя площадь квартиры 52 м.кв.\n",
    "\n",
    "жилая площадь-результат аналогичен данным по общей площади\n",
    "\n",
    "площадь кухни-наиболее часто площадь кухни составляет (0-20 кв.м)\n",
    "\n",
    "цена объекта-наиболее часто встречаются квартиры стоимостью до 10 млн.руб.\n",
    "\n",
    "количество комнат- согласно гистограмме,основная доля продаваемых квартир-двухкомнатные \n",
    "\n",
    "высота потолков-диапазон наиболее часто встречающихся 2,5:3,5\n",
    "\n",
    "этаж квартиры-этажность свидетельствует о преобладании 10 и менее этажных домов\n",
    "\n",
    "тип этажа квартиры («первый», «последний», «другой»)-последних и первых этажей в выборке значительно меньше остальных\n",
    "\n",
    "общее количество этажей в доме-этажность свидетельствует о преобладании 10 и менее этажных домов\n",
    "\n",
    "расстояние до центра города в метрах-основная масса недвижимости сосредоточена в радиусе 20 км\n",
    "\n",
    "расстояние до ближайшего аэропорта-расстояние до аэропорта от 0 до 60 км\n",
    "\n",
    "расстояние до ближайшего парка-парки, при наличии, расположены на расстоянии до 1 км\n",
    "\n",
    "день и месяц публикации объявления-обьявления публикуются в будние дни больше,а в летний месяцы меньше\n",
    "\n",
    "\n",
    "В виду того, что в выборке длительности продажи медиана составляет 73 дня, можно сделать вывод, что если длительность размещения объявления менее 73 дней, продажу считаем быстрой\n",
    "\n",
    "\n",
    "Наиболее заметная зависимость между ценой недвижимости и следующими параметрами:\n",
    "\n",
    "Общая площадь-коэффициент корреляции для стоимости квадратного метра от общей площади 0.6885562309174611\n",
    "\n",
    "Жилая площадь- коэффициент корреляции для стоимости квадратного метра от жилой площади 0.635448770208018\n",
    "\n",
    "Площадь кухни- коэффициент корреляции для стоимости квадратного метра от площади кухни 0.5816189445354518\n",
    "\n",
    "Количество комнат- коэффициент корреляции для стоимости квадратного метра от количества комнат 0.4419359581709397\n",
    "\n",
    "Этажность- дешевле квартиры на первом и последних этажах\n",
    "\n",
    "Квартиры в начале неделя размещаются с большей величиной стоимости, чем в конце недели\n",
    "\n",
    "Месяц размещения: стоимость выше в апреле, а самая низкая в июне\n",
    "\n",
    "Год размещения: прослеживается падение стоимости квартир до 2017 года. Далее идет рост стоимости\n",
    "\n",
    "Согласно построенного графика и коэффициента корреляции, можно сделать вывод о том, что с удалением от центра стоимость недвижимости уменьшается.\n"
   ]
  }
 ],
 "metadata": {
  "ExecuteTimeLog": [
   {
    "duration": 535,
    "start_time": "2023-07-12T05:43:46.369Z"
   },
   {
    "duration": 99,
    "start_time": "2023-07-12T05:44:07.370Z"
   },
   {
    "duration": 122,
    "start_time": "2023-07-12T05:45:14.202Z"
   },
   {
    "duration": 2372,
    "start_time": "2023-07-12T05:47:26.601Z"
   },
   {
    "duration": 1754,
    "start_time": "2023-07-12T05:48:05.673Z"
   },
   {
    "duration": 477,
    "start_time": "2023-07-12T05:48:26.882Z"
   },
   {
    "duration": 355,
    "start_time": "2023-07-12T05:48:39.762Z"
   },
   {
    "duration": 2200,
    "start_time": "2023-07-12T05:49:01.942Z"
   },
   {
    "duration": 10,
    "start_time": "2023-07-12T06:00:49.041Z"
   },
   {
    "duration": 965,
    "start_time": "2023-07-12T06:05:12.044Z"
   },
   {
    "duration": 963,
    "start_time": "2023-07-12T06:05:37.925Z"
   },
   {
    "duration": 971,
    "start_time": "2023-07-12T06:05:50.105Z"
   },
   {
    "duration": 1127,
    "start_time": "2023-07-12T06:06:42.164Z"
   },
   {
    "duration": 1068,
    "start_time": "2023-07-12T06:06:49.973Z"
   },
   {
    "duration": 1016,
    "start_time": "2023-07-12T06:07:22.632Z"
   },
   {
    "duration": 1077,
    "start_time": "2023-07-12T06:07:28.072Z"
   },
   {
    "duration": 1045,
    "start_time": "2023-07-12T06:07:31.493Z"
   },
   {
    "duration": 2132,
    "start_time": "2023-07-12T06:07:34.103Z"
   },
   {
    "duration": 1027,
    "start_time": "2023-07-12T06:07:36.237Z"
   },
   {
    "duration": 8,
    "start_time": "2023-07-12T06:07:57.132Z"
   },
   {
    "duration": 11,
    "start_time": "2023-07-12T06:08:02.702Z"
   },
   {
    "duration": 2149,
    "start_time": "2023-07-12T06:08:06.043Z"
   },
   {
    "duration": 8,
    "start_time": "2023-07-12T06:08:08.194Z"
   },
   {
    "duration": 10,
    "start_time": "2023-07-12T06:08:23.523Z"
   },
   {
    "duration": 9,
    "start_time": "2023-07-12T06:09:03.163Z"
   },
   {
    "duration": 10,
    "start_time": "2023-07-12T06:09:16.015Z"
   },
   {
    "duration": 10,
    "start_time": "2023-07-12T06:09:22.692Z"
   },
   {
    "duration": 48,
    "start_time": "2023-07-12T06:16:15.693Z"
   },
   {
    "duration": 2734,
    "start_time": "2023-07-12T06:16:23.383Z"
   },
   {
    "duration": 10,
    "start_time": "2023-07-12T06:16:32.004Z"
   },
   {
    "duration": 12,
    "start_time": "2023-07-12T06:28:22.383Z"
   },
   {
    "duration": 34,
    "start_time": "2023-07-12T06:28:32.903Z"
   },
   {
    "duration": 32,
    "start_time": "2023-07-12T06:31:22.868Z"
   },
   {
    "duration": 33,
    "start_time": "2023-07-12T06:31:48.891Z"
   },
   {
    "duration": 41,
    "start_time": "2023-07-12T06:33:53.313Z"
   },
   {
    "duration": 40,
    "start_time": "2023-07-12T06:37:41.683Z"
   },
   {
    "duration": 46,
    "start_time": "2023-07-12T06:46:28.192Z"
   },
   {
    "duration": 65,
    "start_time": "2023-07-12T06:50:58.897Z"
   },
   {
    "duration": 36,
    "start_time": "2023-07-12T06:51:36.980Z"
   },
   {
    "duration": 28,
    "start_time": "2023-07-12T06:52:58.895Z"
   },
   {
    "duration": 31,
    "start_time": "2023-07-12T06:53:10.694Z"
   },
   {
    "duration": 37,
    "start_time": "2023-07-12T06:54:14.593Z"
   },
   {
    "duration": 31,
    "start_time": "2023-07-12T06:54:22.693Z"
   },
   {
    "duration": 38,
    "start_time": "2023-07-12T06:54:43.542Z"
   },
   {
    "duration": 31,
    "start_time": "2023-07-12T06:55:37.202Z"
   },
   {
    "duration": 41,
    "start_time": "2023-07-12T06:55:53.090Z"
   },
   {
    "duration": 1094,
    "start_time": "2023-07-12T06:56:24.092Z"
   },
   {
    "duration": 38,
    "start_time": "2023-07-12T06:56:32.022Z"
   },
   {
    "duration": 33,
    "start_time": "2023-07-12T06:56:44.876Z"
   },
   {
    "duration": 33,
    "start_time": "2023-07-12T06:57:21.384Z"
   },
   {
    "duration": 34,
    "start_time": "2023-07-12T06:57:50.989Z"
   },
   {
    "duration": 36,
    "start_time": "2023-07-12T06:58:45.981Z"
   },
   {
    "duration": 44,
    "start_time": "2023-07-12T06:59:37.075Z"
   },
   {
    "duration": 38,
    "start_time": "2023-07-12T07:00:10.512Z"
   },
   {
    "duration": 47,
    "start_time": "2023-07-12T07:00:40.072Z"
   },
   {
    "duration": 39,
    "start_time": "2023-07-12T07:01:47.793Z"
   },
   {
    "duration": 39,
    "start_time": "2023-07-12T07:02:08.192Z"
   },
   {
    "duration": 839,
    "start_time": "2023-07-12T07:02:41.163Z"
   },
   {
    "duration": 37,
    "start_time": "2023-07-12T07:02:50.132Z"
   },
   {
    "duration": 60,
    "start_time": "2023-07-12T07:11:13.609Z"
   },
   {
    "duration": 2275,
    "start_time": "2023-07-12T07:11:28.057Z"
   },
   {
    "duration": 56,
    "start_time": "2023-07-12T07:11:31.878Z"
   },
   {
    "duration": 50,
    "start_time": "2023-07-12T08:32:11.553Z"
   },
   {
    "duration": 3216,
    "start_time": "2023-07-12T08:32:15.411Z"
   },
   {
    "duration": 1079,
    "start_time": "2023-07-12T08:32:18.629Z"
   },
   {
    "duration": 1008,
    "start_time": "2023-07-12T08:32:33.050Z"
   },
   {
    "duration": 45,
    "start_time": "2023-07-12T08:33:17.091Z"
   },
   {
    "duration": 33,
    "start_time": "2023-07-12T08:33:34.203Z"
   },
   {
    "duration": 33,
    "start_time": "2023-07-12T08:35:14.751Z"
   },
   {
    "duration": 34,
    "start_time": "2023-07-12T08:37:45.967Z"
   },
   {
    "duration": 34,
    "start_time": "2023-07-12T08:39:18.835Z"
   },
   {
    "duration": 43,
    "start_time": "2023-07-12T08:40:23.900Z"
   },
   {
    "duration": 33,
    "start_time": "2023-07-12T08:41:51.987Z"
   },
   {
    "duration": 36,
    "start_time": "2023-07-12T08:42:02.875Z"
   },
   {
    "duration": 2312,
    "start_time": "2023-07-12T08:45:03.547Z"
   },
   {
    "duration": 60,
    "start_time": "2023-07-12T08:45:05.861Z"
   },
   {
    "duration": 2121,
    "start_time": "2023-07-12T08:45:21.628Z"
   },
   {
    "duration": 58,
    "start_time": "2023-07-12T08:45:23.751Z"
   },
   {
    "duration": 24,
    "start_time": "2023-07-12T08:46:04.727Z"
   },
   {
    "duration": 172,
    "start_time": "2023-07-12T08:46:22.308Z"
   },
   {
    "duration": 47,
    "start_time": "2023-07-12T08:46:31.890Z"
   },
   {
    "duration": 58,
    "start_time": "2023-07-12T08:46:58.796Z"
   },
   {
    "duration": 2147,
    "start_time": "2023-07-12T08:47:17.432Z"
   },
   {
    "duration": 54,
    "start_time": "2023-07-12T08:47:19.581Z"
   },
   {
    "duration": 51,
    "start_time": "2023-07-12T08:48:57.265Z"
   },
   {
    "duration": 49,
    "start_time": "2023-07-12T08:50:03.602Z"
   },
   {
    "duration": 30,
    "start_time": "2023-07-12T08:50:28.361Z"
   },
   {
    "duration": 54,
    "start_time": "2023-07-12T08:50:44.894Z"
   },
   {
    "duration": 28,
    "start_time": "2023-07-12T08:51:04.295Z"
   },
   {
    "duration": 44,
    "start_time": "2023-07-12T08:52:11.894Z"
   },
   {
    "duration": 204,
    "start_time": "2023-07-12T08:52:28.528Z"
   },
   {
    "duration": 52,
    "start_time": "2023-07-12T08:52:56.002Z"
   },
   {
    "duration": 51,
    "start_time": "2023-07-12T08:53:27.128Z"
   },
   {
    "duration": 29,
    "start_time": "2023-07-12T08:53:50.737Z"
   },
   {
    "duration": 46,
    "start_time": "2023-07-12T08:56:04.243Z"
   },
   {
    "duration": 88,
    "start_time": "2023-07-12T08:57:58.699Z"
   },
   {
    "duration": 2180,
    "start_time": "2023-07-12T08:58:09.807Z"
   },
   {
    "duration": 1649,
    "start_time": "2023-07-12T08:59:21.843Z"
   },
   {
    "duration": 49,
    "start_time": "2023-07-12T09:03:35.384Z"
   },
   {
    "duration": 47,
    "start_time": "2023-07-12T09:03:45.791Z"
   },
   {
    "duration": 31,
    "start_time": "2023-07-12T09:04:03.494Z"
   },
   {
    "duration": 30,
    "start_time": "2023-07-12T09:06:36.404Z"
   },
   {
    "duration": 53,
    "start_time": "2023-07-12T09:07:07.563Z"
   },
   {
    "duration": 66,
    "start_time": "2023-07-12T09:08:54.611Z"
   },
   {
    "duration": 57,
    "start_time": "2023-07-12T09:09:13.653Z"
   },
   {
    "duration": 196,
    "start_time": "2023-07-12T09:10:22.278Z"
   },
   {
    "duration": 2287,
    "start_time": "2023-07-12T09:11:31.873Z"
   },
   {
    "duration": 2012,
    "start_time": "2023-07-12T09:11:39.933Z"
   },
   {
    "duration": 52,
    "start_time": "2023-07-12T09:11:50.094Z"
   },
   {
    "duration": 1848,
    "start_time": "2023-07-12T09:12:09.110Z"
   },
   {
    "duration": 31,
    "start_time": "2023-07-12T09:12:22.731Z"
   },
   {
    "duration": 34,
    "start_time": "2023-07-12T09:12:32.440Z"
   },
   {
    "duration": 69,
    "start_time": "2023-07-12T09:12:43.600Z"
   },
   {
    "duration": 30,
    "start_time": "2023-07-12T09:13:33.983Z"
   },
   {
    "duration": 32,
    "start_time": "2023-07-12T09:14:06.406Z"
   },
   {
    "duration": 39,
    "start_time": "2023-07-12T09:14:25.207Z"
   },
   {
    "duration": 32,
    "start_time": "2023-07-12T09:14:48.407Z"
   },
   {
    "duration": 44,
    "start_time": "2023-07-12T09:14:59.507Z"
   },
   {
    "duration": 31,
    "start_time": "2023-07-12T09:15:39.279Z"
   },
   {
    "duration": 36,
    "start_time": "2023-07-12T09:15:47.615Z"
   },
   {
    "duration": 58,
    "start_time": "2023-07-12T09:15:56.506Z"
   },
   {
    "duration": 241,
    "start_time": "2023-07-12T09:16:18.934Z"
   },
   {
    "duration": 305,
    "start_time": "2023-07-12T09:24:15.342Z"
   },
   {
    "duration": 1446,
    "start_time": "2023-07-12T09:24:56.251Z"
   },
   {
    "duration": 32,
    "start_time": "2023-07-12T09:25:43.854Z"
   },
   {
    "duration": 31,
    "start_time": "2023-07-12T09:26:25.651Z"
   },
   {
    "duration": 30,
    "start_time": "2023-07-12T09:26:37.852Z"
   },
   {
    "duration": 35,
    "start_time": "2023-07-12T09:32:53.893Z"
   },
   {
    "duration": 72,
    "start_time": "2023-07-12T09:33:03.160Z"
   },
   {
    "duration": 55,
    "start_time": "2023-07-12T09:33:10.663Z"
   },
   {
    "duration": 52,
    "start_time": "2023-07-12T09:33:20.525Z"
   },
   {
    "duration": 57,
    "start_time": "2023-07-12T09:33:49.054Z"
   },
   {
    "duration": 2281,
    "start_time": "2023-07-12T09:33:57.991Z"
   },
   {
    "duration": 61,
    "start_time": "2023-07-12T09:34:00.274Z"
   },
   {
    "duration": 43,
    "start_time": "2023-07-12T09:34:30.860Z"
   },
   {
    "duration": 2298,
    "start_time": "2023-07-12T09:40:22.879Z"
   },
   {
    "duration": 34,
    "start_time": "2023-07-12T09:40:52.655Z"
   },
   {
    "duration": 35,
    "start_time": "2023-07-12T09:41:15.882Z"
   },
   {
    "duration": 55,
    "start_time": "2023-07-12T09:41:52.055Z"
   },
   {
    "duration": 35,
    "start_time": "2023-07-12T09:42:21.799Z"
   },
   {
    "duration": 38,
    "start_time": "2023-07-12T09:42:49.622Z"
   },
   {
    "duration": 38,
    "start_time": "2023-07-12T09:43:19.016Z"
   },
   {
    "duration": 32,
    "start_time": "2023-07-12T09:44:54.991Z"
   },
   {
    "duration": 35,
    "start_time": "2023-07-12T09:45:36.162Z"
   },
   {
    "duration": 36,
    "start_time": "2023-07-12T09:45:46.229Z"
   },
   {
    "duration": 35,
    "start_time": "2023-07-12T09:46:12.934Z"
   },
   {
    "duration": 26,
    "start_time": "2023-07-12T09:48:26.225Z"
   },
   {
    "duration": 2205,
    "start_time": "2023-07-12T09:48:40.667Z"
   },
   {
    "duration": 38,
    "start_time": "2023-07-12T09:48:42.874Z"
   },
   {
    "duration": 2029,
    "start_time": "2023-07-12T09:49:14.857Z"
   },
   {
    "duration": 40,
    "start_time": "2023-07-12T09:49:16.888Z"
   },
   {
    "duration": 289,
    "start_time": "2023-07-12T09:49:40.186Z"
   },
   {
    "duration": 48,
    "start_time": "2023-07-12T09:53:52.394Z"
   },
   {
    "duration": 33,
    "start_time": "2023-07-12T09:54:28.955Z"
   },
   {
    "duration": 35,
    "start_time": "2023-07-12T09:55:57.031Z"
   },
   {
    "duration": 35,
    "start_time": "2023-07-12T09:57:19.217Z"
   },
   {
    "duration": 61,
    "start_time": "2023-07-12T09:58:39.150Z"
   },
   {
    "duration": 60,
    "start_time": "2023-07-12T09:59:32.355Z"
   },
   {
    "duration": 2076,
    "start_time": "2023-07-12T09:59:38.697Z"
   },
   {
    "duration": 65,
    "start_time": "2023-07-12T09:59:40.776Z"
   },
   {
    "duration": 69,
    "start_time": "2023-07-12T10:01:13.714Z"
   },
   {
    "duration": 54,
    "start_time": "2023-07-12T10:01:27.280Z"
   },
   {
    "duration": 32,
    "start_time": "2023-07-12T10:01:50.869Z"
   },
   {
    "duration": 78,
    "start_time": "2023-07-12T10:01:57.554Z"
   },
   {
    "duration": 2308,
    "start_time": "2023-07-12T10:02:21.780Z"
   },
   {
    "duration": 59,
    "start_time": "2023-07-12T10:02:24.090Z"
   },
   {
    "duration": 59,
    "start_time": "2023-07-12T10:02:44.466Z"
   },
   {
    "duration": 35,
    "start_time": "2023-07-12T10:03:45.486Z"
   },
   {
    "duration": 49,
    "start_time": "2023-07-12T10:04:46.298Z"
   },
   {
    "duration": 55,
    "start_time": "2023-07-12T10:06:17.480Z"
   },
   {
    "duration": 61,
    "start_time": "2023-07-12T10:06:38.580Z"
   },
   {
    "duration": 29,
    "start_time": "2023-07-12T10:09:55.964Z"
   },
   {
    "duration": 25,
    "start_time": "2023-07-12T10:10:17.636Z"
   },
   {
    "duration": 35,
    "start_time": "2023-07-12T10:10:36.356Z"
   },
   {
    "duration": 24,
    "start_time": "2023-07-12T10:10:53.382Z"
   },
   {
    "duration": 10,
    "start_time": "2023-07-12T10:15:23.942Z"
   },
   {
    "duration": 9,
    "start_time": "2023-07-12T10:15:33.503Z"
   },
   {
    "duration": 2085,
    "start_time": "2023-07-12T10:16:03.984Z"
   },
   {
    "duration": 380,
    "start_time": "2023-07-12T10:16:06.071Z"
   },
   {
    "duration": 8,
    "start_time": "2023-07-12T10:16:06.453Z"
   },
   {
    "duration": 5,
    "start_time": "2023-07-12T10:16:35.223Z"
   },
   {
    "duration": 9,
    "start_time": "2023-07-12T10:17:54.649Z"
   },
   {
    "duration": 14,
    "start_time": "2023-07-12T10:18:46.729Z"
   },
   {
    "duration": 35,
    "start_time": "2023-07-12T10:18:58.869Z"
   },
   {
    "duration": 347,
    "start_time": "2023-07-12T10:21:08.037Z"
   },
   {
    "duration": 422,
    "start_time": "2023-07-12T10:21:15.737Z"
   },
   {
    "duration": 410,
    "start_time": "2023-07-12T10:24:06.785Z"
   },
   {
    "duration": 377,
    "start_time": "2023-07-12T10:24:24.655Z"
   },
   {
    "duration": 432,
    "start_time": "2023-07-12T10:37:53.575Z"
   },
   {
    "duration": 380,
    "start_time": "2023-07-12T10:38:00.734Z"
   },
   {
    "duration": 2101,
    "start_time": "2023-07-12T10:38:05.717Z"
   },
   {
    "duration": 336,
    "start_time": "2023-07-12T10:38:07.820Z"
   },
   {
    "duration": 702,
    "start_time": "2023-07-12T10:38:08.158Z"
   },
   {
    "duration": 315,
    "start_time": "2023-07-12T10:38:34.019Z"
   },
   {
    "duration": 335,
    "start_time": "2023-07-12T10:39:11.679Z"
   },
   {
    "duration": 356,
    "start_time": "2023-07-12T10:47:46.722Z"
   },
   {
    "duration": 390,
    "start_time": "2023-07-12T10:48:17.490Z"
   },
   {
    "duration": 2203,
    "start_time": "2023-07-12T10:48:39.514Z"
   },
   {
    "duration": 350,
    "start_time": "2023-07-12T10:48:41.720Z"
   },
   {
    "duration": 396,
    "start_time": "2023-07-12T10:48:42.072Z"
   },
   {
    "duration": 722,
    "start_time": "2023-07-12T10:51:38.669Z"
   },
   {
    "duration": 2281,
    "start_time": "2023-07-12T10:51:49.999Z"
   },
   {
    "duration": 345,
    "start_time": "2023-07-12T10:51:52.282Z"
   },
   {
    "duration": 391,
    "start_time": "2023-07-12T10:51:52.628Z"
   },
   {
    "duration": 2387,
    "start_time": "2023-07-12T10:52:40.735Z"
   },
   {
    "duration": 387,
    "start_time": "2023-07-12T10:52:43.125Z"
   },
   {
    "duration": 943,
    "start_time": "2023-07-12T10:52:43.514Z"
   },
   {
    "duration": 340,
    "start_time": "2023-07-12T10:53:04.180Z"
   },
   {
    "duration": 342,
    "start_time": "2023-07-12T10:53:14.069Z"
   },
   {
    "duration": 3856,
    "start_time": "2023-07-12T10:53:53.508Z"
   },
   {
    "duration": 2515,
    "start_time": "2023-07-12T10:54:32.686Z"
   },
   {
    "duration": 368,
    "start_time": "2023-07-12T10:54:35.845Z"
   },
   {
    "duration": 2178,
    "start_time": "2023-07-12T10:55:18.170Z"
   },
   {
    "duration": 453,
    "start_time": "2023-07-12T10:55:20.350Z"
   },
   {
    "duration": 450,
    "start_time": "2023-07-12T10:55:20.805Z"
   },
   {
    "duration": 897,
    "start_time": "2023-07-12T11:00:53.531Z"
   },
   {
    "duration": 387,
    "start_time": "2023-07-12T11:01:34.380Z"
   },
   {
    "duration": 208,
    "start_time": "2023-07-12T11:03:02.465Z"
   },
   {
    "duration": 2216,
    "start_time": "2023-07-12T11:03:11.619Z"
   },
   {
    "duration": 409,
    "start_time": "2023-07-12T11:03:13.837Z"
   },
   {
    "duration": 389,
    "start_time": "2023-07-12T11:03:14.249Z"
   },
   {
    "duration": 211,
    "start_time": "2023-07-12T11:03:14.640Z"
   },
   {
    "duration": 0,
    "start_time": "2023-07-12T11:03:14.853Z"
   },
   {
    "duration": 222,
    "start_time": "2023-07-12T11:03:28.884Z"
   },
   {
    "duration": 238,
    "start_time": "2023-07-12T11:04:27.415Z"
   },
   {
    "duration": 329,
    "start_time": "2023-07-12T11:04:38.954Z"
   },
   {
    "duration": 292,
    "start_time": "2023-07-12T11:05:03.744Z"
   },
   {
    "duration": 552,
    "start_time": "2023-07-12T11:05:09.031Z"
   },
   {
    "duration": 525,
    "start_time": "2023-07-12T11:05:16.645Z"
   },
   {
    "duration": 739,
    "start_time": "2023-07-12T11:06:34.409Z"
   },
   {
    "duration": 1013,
    "start_time": "2023-07-12T11:07:18.395Z"
   },
   {
    "duration": 1506,
    "start_time": "2023-07-12T11:07:33.834Z"
   },
   {
    "duration": 904,
    "start_time": "2023-07-12T11:07:47.964Z"
   },
   {
    "duration": 919,
    "start_time": "2023-07-12T11:08:39.432Z"
   },
   {
    "duration": 3358,
    "start_time": "2023-07-13T03:26:29.449Z"
   },
   {
    "duration": 310,
    "start_time": "2023-07-13T03:26:32.810Z"
   },
   {
    "duration": 388,
    "start_time": "2023-07-13T03:26:33.121Z"
   },
   {
    "duration": 781,
    "start_time": "2023-07-13T03:26:33.511Z"
   },
   {
    "duration": 98,
    "start_time": "2023-07-13T03:26:34.294Z"
   },
   {
    "duration": 1078,
    "start_time": "2023-07-13T03:50:45.001Z"
   },
   {
    "duration": 1447,
    "start_time": "2023-07-13T03:53:15.519Z"
   },
   {
    "duration": 1495,
    "start_time": "2023-07-13T04:01:21.101Z"
   },
   {
    "duration": 2842,
    "start_time": "2023-07-13T04:07:32.245Z"
   },
   {
    "duration": 3572,
    "start_time": "2023-07-13T04:07:46.589Z"
   },
   {
    "duration": 353,
    "start_time": "2023-07-13T04:10:13.191Z"
   },
   {
    "duration": 3627,
    "start_time": "2023-07-13T04:10:27.369Z"
   },
   {
    "duration": 3395,
    "start_time": "2023-07-13T04:10:55.892Z"
   },
   {
    "duration": 3249,
    "start_time": "2023-07-13T04:11:09.097Z"
   },
   {
    "duration": 3514,
    "start_time": "2023-07-13T04:11:45.888Z"
   },
   {
    "duration": 586,
    "start_time": "2023-07-13T04:12:22.599Z"
   },
   {
    "duration": 3428,
    "start_time": "2023-07-13T04:12:30.712Z"
   },
   {
    "duration": 3470,
    "start_time": "2023-07-13T04:12:52.785Z"
   },
   {
    "duration": 3545,
    "start_time": "2023-07-13T04:15:42.864Z"
   },
   {
    "duration": 114,
    "start_time": "2023-07-13T04:17:57.368Z"
   },
   {
    "duration": 2131,
    "start_time": "2023-07-13T04:18:01.499Z"
   },
   {
    "duration": 541,
    "start_time": "2023-07-13T04:18:03.633Z"
   },
   {
    "duration": 348,
    "start_time": "2023-07-13T04:18:04.176Z"
   },
   {
    "duration": 3264,
    "start_time": "2023-07-13T04:18:04.525Z"
   },
   {
    "duration": 339,
    "start_time": "2023-07-13T04:18:07.791Z"
   },
   {
    "duration": 3857,
    "start_time": "2023-07-13T04:41:44.652Z"
   },
   {
    "duration": 264,
    "start_time": "2023-07-13T04:43:12.233Z"
   },
   {
    "duration": 4005,
    "start_time": "2023-07-13T04:43:20.787Z"
   },
   {
    "duration": 2139,
    "start_time": "2023-07-13T04:44:33.655Z"
   },
   {
    "duration": 535,
    "start_time": "2023-07-13T04:44:35.797Z"
   },
   {
    "duration": 366,
    "start_time": "2023-07-13T04:44:36.335Z"
   },
   {
    "duration": 3169,
    "start_time": "2023-07-13T04:44:36.703Z"
   },
   {
    "duration": 247,
    "start_time": "2023-07-13T04:44:39.874Z"
   },
   {
    "duration": 88,
    "start_time": "2023-07-13T04:44:40.123Z"
   },
   {
    "duration": 2774,
    "start_time": "2023-07-13T04:45:07.947Z"
   },
   {
    "duration": 398,
    "start_time": "2023-07-13T04:45:10.724Z"
   },
   {
    "duration": 478,
    "start_time": "2023-07-13T04:45:11.124Z"
   },
   {
    "duration": 3077,
    "start_time": "2023-07-13T04:45:11.605Z"
   },
   {
    "duration": 248,
    "start_time": "2023-07-13T04:45:14.684Z"
   },
   {
    "duration": 88,
    "start_time": "2023-07-13T04:45:14.934Z"
   },
   {
    "duration": 2547,
    "start_time": "2023-07-13T04:51:52.043Z"
   },
   {
    "duration": 376,
    "start_time": "2023-07-13T04:51:54.593Z"
   },
   {
    "duration": 434,
    "start_time": "2023-07-13T04:51:54.971Z"
   },
   {
    "duration": 3484,
    "start_time": "2023-07-13T04:51:55.407Z"
   },
   {
    "duration": 275,
    "start_time": "2023-07-13T04:51:58.893Z"
   },
   {
    "duration": 173,
    "start_time": "2023-07-13T04:51:59.171Z"
   },
   {
    "duration": 2093,
    "start_time": "2023-07-13T04:52:52.229Z"
   },
   {
    "duration": 344,
    "start_time": "2023-07-13T04:52:54.325Z"
   },
   {
    "duration": 710,
    "start_time": "2023-07-13T04:52:54.671Z"
   },
   {
    "duration": 2223,
    "start_time": "2023-07-13T04:52:59.374Z"
   },
   {
    "duration": 353,
    "start_time": "2023-07-13T04:53:01.599Z"
   },
   {
    "duration": 366,
    "start_time": "2023-07-13T04:53:01.954Z"
   },
   {
    "duration": 3305,
    "start_time": "2023-07-13T04:53:02.323Z"
   },
   {
    "duration": 270,
    "start_time": "2023-07-13T04:53:05.630Z"
   },
   {
    "duration": 90,
    "start_time": "2023-07-13T04:53:05.903Z"
   },
   {
    "duration": 3086,
    "start_time": "2023-07-13T04:53:49.204Z"
   },
   {
    "duration": 517,
    "start_time": "2023-07-13T04:53:52.293Z"
   },
   {
    "duration": 533,
    "start_time": "2023-07-13T04:53:52.815Z"
   },
   {
    "duration": 4620,
    "start_time": "2023-07-13T04:53:53.352Z"
   },
   {
    "duration": 447,
    "start_time": "2023-07-13T04:53:57.976Z"
   },
   {
    "duration": 184,
    "start_time": "2023-07-13T04:53:58.426Z"
   },
   {
    "duration": 2615,
    "start_time": "2023-07-13T04:56:18.405Z"
   },
   {
    "duration": 377,
    "start_time": "2023-07-13T04:56:21.023Z"
   },
   {
    "duration": 368,
    "start_time": "2023-07-13T04:56:21.401Z"
   },
   {
    "duration": 3349,
    "start_time": "2023-07-13T04:56:21.771Z"
   },
   {
    "duration": 287,
    "start_time": "2023-07-13T04:56:25.124Z"
   },
   {
    "duration": 121,
    "start_time": "2023-07-13T04:56:25.414Z"
   },
   {
    "duration": 2286,
    "start_time": "2023-07-13T04:56:41.996Z"
   },
   {
    "duration": 389,
    "start_time": "2023-07-13T04:56:44.284Z"
   },
   {
    "duration": 410,
    "start_time": "2023-07-13T04:56:44.676Z"
   },
   {
    "duration": 3774,
    "start_time": "2023-07-13T04:56:45.090Z"
   },
   {
    "duration": 264,
    "start_time": "2023-07-13T04:56:48.865Z"
   },
   {
    "duration": 191,
    "start_time": "2023-07-13T04:56:49.131Z"
   },
   {
    "duration": 2207,
    "start_time": "2023-07-13T04:56:51.826Z"
   },
   {
    "duration": 379,
    "start_time": "2023-07-13T04:56:54.036Z"
   },
   {
    "duration": 428,
    "start_time": "2023-07-13T04:56:54.417Z"
   },
   {
    "duration": 3597,
    "start_time": "2023-07-13T04:56:54.857Z"
   },
   {
    "duration": 325,
    "start_time": "2023-07-13T04:56:58.458Z"
   },
   {
    "duration": 132,
    "start_time": "2023-07-13T04:56:58.784Z"
   },
   {
    "duration": 2277,
    "start_time": "2023-07-13T04:57:02.327Z"
   },
   {
    "duration": 366,
    "start_time": "2023-07-13T04:57:04.607Z"
   },
   {
    "duration": 435,
    "start_time": "2023-07-13T04:57:04.975Z"
   },
   {
    "duration": 3776,
    "start_time": "2023-07-13T04:57:05.413Z"
   },
   {
    "duration": 288,
    "start_time": "2023-07-13T04:57:09.192Z"
   },
   {
    "duration": 109,
    "start_time": "2023-07-13T04:57:09.483Z"
   },
   {
    "duration": 387,
    "start_time": "2023-07-13T05:22:47.644Z"
   },
   {
    "duration": 5,
    "start_time": "2023-07-13T05:23:36.445Z"
   },
   {
    "duration": 2155,
    "start_time": "2023-07-13T05:23:39.767Z"
   },
   {
    "duration": 355,
    "start_time": "2023-07-13T05:23:41.925Z"
   },
   {
    "duration": 350,
    "start_time": "2023-07-13T05:23:42.282Z"
   },
   {
    "duration": 3140,
    "start_time": "2023-07-13T05:23:42.635Z"
   },
   {
    "duration": 891,
    "start_time": "2023-07-13T05:23:45.777Z"
   },
   {
    "duration": 0,
    "start_time": "2023-07-13T05:23:46.675Z"
   },
   {
    "duration": 0,
    "start_time": "2023-07-13T05:23:46.677Z"
   },
   {
    "duration": 5,
    "start_time": "2023-07-13T05:23:57.595Z"
   },
   {
    "duration": 10,
    "start_time": "2023-07-13T05:24:03.034Z"
   },
   {
    "duration": 9,
    "start_time": "2023-07-13T05:24:06.194Z"
   },
   {
    "duration": 216,
    "start_time": "2023-07-13T05:25:30.543Z"
   },
   {
    "duration": 6,
    "start_time": "2023-07-13T05:25:34.764Z"
   },
   {
    "duration": 14,
    "start_time": "2023-07-13T05:28:07.193Z"
   },
   {
    "duration": 21,
    "start_time": "2023-07-13T05:28:39.846Z"
   },
   {
    "duration": 28,
    "start_time": "2023-07-13T05:28:53.457Z"
   },
   {
    "duration": 2032,
    "start_time": "2023-07-13T05:28:59.167Z"
   },
   {
    "duration": 17,
    "start_time": "2023-07-13T05:29:32.526Z"
   },
   {
    "duration": 26,
    "start_time": "2023-07-13T05:29:41.175Z"
   },
   {
    "duration": 24,
    "start_time": "2023-07-13T05:30:48.755Z"
   },
   {
    "duration": 159,
    "start_time": "2023-07-13T05:31:19.785Z"
   },
   {
    "duration": 174,
    "start_time": "2023-07-13T05:31:35.853Z"
   },
   {
    "duration": 129,
    "start_time": "2023-07-13T05:31:36.030Z"
   },
   {
    "duration": 162,
    "start_time": "2023-07-13T05:31:46.924Z"
   },
   {
    "duration": 13,
    "start_time": "2023-07-13T05:34:10.858Z"
   },
   {
    "duration": 221,
    "start_time": "2023-07-13T05:34:45.602Z"
   },
   {
    "duration": 392,
    "start_time": "2023-07-13T05:35:30.324Z"
   },
   {
    "duration": 359,
    "start_time": "2023-07-13T05:35:49.837Z"
   },
   {
    "duration": 2094,
    "start_time": "2023-07-13T05:36:08.923Z"
   },
   {
    "duration": 358,
    "start_time": "2023-07-13T05:36:11.019Z"
   },
   {
    "duration": 380,
    "start_time": "2023-07-13T05:36:11.379Z"
   },
   {
    "duration": 2862,
    "start_time": "2023-07-13T05:36:11.761Z"
   },
   {
    "duration": 280,
    "start_time": "2023-07-13T05:36:14.625Z"
   },
   {
    "duration": 354,
    "start_time": "2023-07-13T05:36:14.906Z"
   },
   {
    "duration": 251,
    "start_time": "2023-07-13T05:36:15.263Z"
   },
   {
    "duration": 349,
    "start_time": "2023-07-13T05:50:22.084Z"
   },
   {
    "duration": 1066,
    "start_time": "2023-07-13T05:52:52.324Z"
   },
   {
    "duration": 39,
    "start_time": "2023-07-13T05:53:57.290Z"
   },
   {
    "duration": 584,
    "start_time": "2023-07-13T05:54:08.968Z"
   },
   {
    "duration": 660,
    "start_time": "2023-07-13T06:01:25.835Z"
   },
   {
    "duration": 686,
    "start_time": "2023-07-13T06:01:53.577Z"
   },
   {
    "duration": 755,
    "start_time": "2023-07-13T06:02:25.711Z"
   },
   {
    "duration": 964,
    "start_time": "2023-07-13T06:06:34.252Z"
   },
   {
    "duration": 1041,
    "start_time": "2023-07-13T06:06:57.740Z"
   },
   {
    "duration": 1050,
    "start_time": "2023-07-13T06:07:08.114Z"
   },
   {
    "duration": 1462,
    "start_time": "2023-07-13T06:27:51.642Z"
   },
   {
    "duration": 1428,
    "start_time": "2023-07-13T06:28:29.505Z"
   },
   {
    "duration": 1348,
    "start_time": "2023-07-13T06:41:41.558Z"
   },
   {
    "duration": 50,
    "start_time": "2023-07-13T10:37:49.510Z"
   },
   {
    "duration": 3095,
    "start_time": "2023-07-13T10:37:57.659Z"
   },
   {
    "duration": 307,
    "start_time": "2023-07-13T10:38:00.756Z"
   },
   {
    "duration": 374,
    "start_time": "2023-07-13T10:38:01.064Z"
   },
   {
    "duration": 2384,
    "start_time": "2023-07-13T10:38:01.440Z"
   },
   {
    "duration": 213,
    "start_time": "2023-07-13T10:38:03.825Z"
   },
   {
    "duration": 1134,
    "start_time": "2023-07-13T10:38:04.040Z"
   },
   {
    "duration": 44,
    "start_time": "2023-07-13T10:38:05.175Z"
   },
   {
    "duration": 82,
    "start_time": "2023-07-13T10:38:05.221Z"
   },
   {
    "duration": 63,
    "start_time": "2023-07-13T10:38:35.641Z"
   },
   {
    "duration": 564,
    "start_time": "2023-07-13T10:38:59.906Z"
   },
   {
    "duration": 23,
    "start_time": "2023-07-13T10:39:32.918Z"
   },
   {
    "duration": 38,
    "start_time": "2023-07-13T10:39:46.056Z"
   },
   {
    "duration": 34,
    "start_time": "2023-07-13T10:48:11.421Z"
   },
   {
    "duration": 28,
    "start_time": "2023-07-13T10:48:19.940Z"
   },
   {
    "duration": 85,
    "start_time": "2023-07-13T10:52:55.220Z"
   },
   {
    "duration": 124,
    "start_time": "2023-07-13T10:53:17.059Z"
   },
   {
    "duration": 87,
    "start_time": "2023-07-13T10:53:45.864Z"
   },
   {
    "duration": 273,
    "start_time": "2023-07-13T10:55:39.832Z"
   },
   {
    "duration": 224,
    "start_time": "2023-07-13T10:55:56.852Z"
   },
   {
    "duration": 100,
    "start_time": "2023-07-13T10:56:11.464Z"
   },
   {
    "duration": 45,
    "start_time": "2023-07-13T10:57:35.060Z"
   },
   {
    "duration": 46,
    "start_time": "2023-07-13T10:57:45.420Z"
   },
   {
    "duration": 38,
    "start_time": "2023-07-13T10:58:18.830Z"
   },
   {
    "duration": 49,
    "start_time": "2023-07-13T10:58:46.133Z"
   },
   {
    "duration": 42,
    "start_time": "2023-07-13T10:59:45.739Z"
   },
   {
    "duration": 32,
    "start_time": "2023-07-13T11:04:29.908Z"
   },
   {
    "duration": 101,
    "start_time": "2023-07-13T11:04:50.450Z"
   },
   {
    "duration": 44,
    "start_time": "2023-07-13T11:05:00.158Z"
   },
   {
    "duration": 46,
    "start_time": "2023-07-13T11:05:10.513Z"
   },
   {
    "duration": 42,
    "start_time": "2023-07-13T11:05:20.408Z"
   },
   {
    "duration": 35,
    "start_time": "2023-07-13T11:06:10.950Z"
   },
   {
    "duration": 37,
    "start_time": "2023-07-13T11:06:23.832Z"
   },
   {
    "duration": 41,
    "start_time": "2023-07-13T11:06:40.750Z"
   },
   {
    "duration": 2075,
    "start_time": "2023-07-13T11:07:21.160Z"
   },
   {
    "duration": 44,
    "start_time": "2023-07-13T11:07:36.908Z"
   },
   {
    "duration": 45,
    "start_time": "2023-07-13T11:08:38.060Z"
   },
   {
    "duration": 180,
    "start_time": "2023-07-13T11:08:54.428Z"
   },
   {
    "duration": 43,
    "start_time": "2023-07-13T11:08:57.243Z"
   },
   {
    "duration": 45,
    "start_time": "2023-07-13T11:09:04.511Z"
   },
   {
    "duration": 44,
    "start_time": "2023-07-13T11:09:21.152Z"
   },
   {
    "duration": 43,
    "start_time": "2023-07-13T11:12:25.869Z"
   },
   {
    "duration": 46,
    "start_time": "2023-07-13T11:12:58.750Z"
   },
   {
    "duration": 44,
    "start_time": "2023-07-13T11:16:07.037Z"
   },
   {
    "duration": 43,
    "start_time": "2023-07-13T11:21:30.402Z"
   },
   {
    "duration": 43,
    "start_time": "2023-07-13T11:22:00.713Z"
   },
   {
    "duration": 13,
    "start_time": "2023-07-13T11:27:12.536Z"
   },
   {
    "duration": 82,
    "start_time": "2023-07-13T11:29:21.457Z"
   },
   {
    "duration": 42,
    "start_time": "2023-07-13T11:29:26.724Z"
   },
   {
    "duration": 35,
    "start_time": "2023-07-13T11:29:37.860Z"
   },
   {
    "duration": 41,
    "start_time": "2023-07-13T11:31:59.942Z"
   },
   {
    "duration": 29,
    "start_time": "2023-07-13T11:33:44.504Z"
   },
   {
    "duration": 26,
    "start_time": "2023-07-13T11:34:12.820Z"
   },
   {
    "duration": 176,
    "start_time": "2023-07-13T11:37:38.332Z"
   },
   {
    "duration": 157,
    "start_time": "2023-07-13T11:38:03.733Z"
   },
   {
    "duration": 2631,
    "start_time": "2023-07-13T11:39:36.027Z"
   },
   {
    "duration": 238,
    "start_time": "2023-07-13T11:41:17.267Z"
   },
   {
    "duration": 1734,
    "start_time": "2023-07-13T11:42:26.825Z"
   },
   {
    "duration": 2041,
    "start_time": "2023-07-13T11:43:06.966Z"
   },
   {
    "duration": 3808,
    "start_time": "2023-07-13T11:43:28.116Z"
   },
   {
    "duration": 1601,
    "start_time": "2023-07-13T11:43:37.838Z"
   },
   {
    "duration": 170,
    "start_time": "2023-07-13T11:44:46.819Z"
   },
   {
    "duration": 170,
    "start_time": "2023-07-13T11:45:34.892Z"
   },
   {
    "duration": 519,
    "start_time": "2023-07-13T11:50:48.438Z"
   },
   {
    "duration": 244,
    "start_time": "2023-07-13T11:50:55.958Z"
   },
   {
    "duration": 439,
    "start_time": "2023-07-13T11:51:07.511Z"
   },
   {
    "duration": 181,
    "start_time": "2023-07-13T11:51:33.107Z"
   },
   {
    "duration": 169,
    "start_time": "2023-07-13T11:52:21.316Z"
   },
   {
    "duration": 205,
    "start_time": "2023-07-13T11:52:38.125Z"
   },
   {
    "duration": 171,
    "start_time": "2023-07-13T11:52:48.503Z"
   },
   {
    "duration": 221,
    "start_time": "2023-07-13T11:55:36.010Z"
   },
   {
    "duration": 90,
    "start_time": "2023-07-13T11:56:23.201Z"
   },
   {
    "duration": 151,
    "start_time": "2023-07-13T11:56:33.791Z"
   },
   {
    "duration": 3189,
    "start_time": "2023-07-14T04:27:21.116Z"
   },
   {
    "duration": 328,
    "start_time": "2023-07-14T04:27:24.307Z"
   },
   {
    "duration": 427,
    "start_time": "2023-07-14T04:27:24.637Z"
   },
   {
    "duration": 2738,
    "start_time": "2023-07-14T04:27:25.066Z"
   },
   {
    "duration": 239,
    "start_time": "2023-07-14T04:27:27.806Z"
   },
   {
    "duration": 1249,
    "start_time": "2023-07-14T04:27:28.047Z"
   },
   {
    "duration": 109,
    "start_time": "2023-07-14T04:27:29.298Z"
   },
   {
    "duration": 0,
    "start_time": "2023-07-14T04:27:29.409Z"
   },
   {
    "duration": 0,
    "start_time": "2023-07-14T04:27:29.411Z"
   },
   {
    "duration": 103,
    "start_time": "2023-07-14T04:28:54.520Z"
   },
   {
    "duration": 36,
    "start_time": "2023-07-14T04:29:41.383Z"
   },
   {
    "duration": 36,
    "start_time": "2023-07-14T04:29:50.141Z"
   },
   {
    "duration": 486,
    "start_time": "2023-07-14T04:30:23.625Z"
   },
   {
    "duration": 305,
    "start_time": "2023-07-14T04:30:50.355Z"
   },
   {
    "duration": 387,
    "start_time": "2023-07-14T04:31:11.394Z"
   },
   {
    "duration": 315,
    "start_time": "2023-07-14T04:32:07.460Z"
   },
   {
    "duration": 306,
    "start_time": "2023-07-14T04:43:56.977Z"
   },
   {
    "duration": 398,
    "start_time": "2023-07-14T04:44:35.765Z"
   },
   {
    "duration": 317,
    "start_time": "2023-07-14T04:44:47.298Z"
   },
   {
    "duration": 311,
    "start_time": "2023-07-14T04:44:57.409Z"
   },
   {
    "duration": 72,
    "start_time": "2023-07-14T04:46:24.366Z"
   },
   {
    "duration": 392,
    "start_time": "2023-07-14T04:46:38.227Z"
   },
   {
    "duration": 315,
    "start_time": "2023-07-14T04:47:01.718Z"
   },
   {
    "duration": 324,
    "start_time": "2023-07-14T04:47:08.267Z"
   },
   {
    "duration": 403,
    "start_time": "2023-07-14T04:53:05.076Z"
   },
   {
    "duration": 312,
    "start_time": "2023-07-14T04:53:17.877Z"
   },
   {
    "duration": 303,
    "start_time": "2023-07-14T04:56:14.296Z"
   },
   {
    "duration": 375,
    "start_time": "2023-07-14T05:01:52.916Z"
   },
   {
    "duration": 2130,
    "start_time": "2023-07-14T05:47:58.528Z"
   },
   {
    "duration": 19,
    "start_time": "2023-07-14T05:48:00.660Z"
   },
   {
    "duration": 97,
    "start_time": "2023-07-14T05:48:00.681Z"
   },
   {
    "duration": 293,
    "start_time": "2023-07-14T05:48:00.780Z"
   },
   {
    "duration": 343,
    "start_time": "2023-07-14T05:48:01.075Z"
   },
   {
    "duration": 3004,
    "start_time": "2023-07-14T05:48:01.420Z"
   },
   {
    "duration": 269,
    "start_time": "2023-07-14T05:48:04.426Z"
   },
   {
    "duration": 1466,
    "start_time": "2023-07-14T05:48:04.697Z"
   },
   {
    "duration": 38,
    "start_time": "2023-07-14T05:48:06.165Z"
   },
   {
    "duration": 0,
    "start_time": "2023-07-14T05:48:06.205Z"
   },
   {
    "duration": 0,
    "start_time": "2023-07-14T05:48:06.206Z"
   },
   {
    "duration": 2146,
    "start_time": "2023-07-14T05:59:15.765Z"
   },
   {
    "duration": 18,
    "start_time": "2023-07-14T05:59:17.913Z"
   },
   {
    "duration": 38,
    "start_time": "2023-07-14T05:59:17.932Z"
   },
   {
    "duration": 272,
    "start_time": "2023-07-14T05:59:17.972Z"
   },
   {
    "duration": 328,
    "start_time": "2023-07-14T05:59:18.246Z"
   },
   {
    "duration": 2885,
    "start_time": "2023-07-14T05:59:18.576Z"
   },
   {
    "duration": 251,
    "start_time": "2023-07-14T05:59:21.463Z"
   },
   {
    "duration": 1505,
    "start_time": "2023-07-14T05:59:21.716Z"
   },
   {
    "duration": 52,
    "start_time": "2023-07-14T05:59:23.223Z"
   },
   {
    "duration": 0,
    "start_time": "2023-07-14T05:59:23.277Z"
   },
   {
    "duration": 0,
    "start_time": "2023-07-14T05:59:23.278Z"
   },
   {
    "duration": 344,
    "start_time": "2023-07-14T06:03:46.598Z"
   },
   {
    "duration": 2223,
    "start_time": "2023-07-14T06:13:51.919Z"
   },
   {
    "duration": 33,
    "start_time": "2023-07-14T06:13:54.144Z"
   },
   {
    "duration": 25,
    "start_time": "2023-07-14T06:13:54.180Z"
   },
   {
    "duration": 302,
    "start_time": "2023-07-14T06:13:54.208Z"
   },
   {
    "duration": 337,
    "start_time": "2023-07-14T06:13:54.512Z"
   },
   {
    "duration": 2859,
    "start_time": "2023-07-14T06:13:54.851Z"
   },
   {
    "duration": 249,
    "start_time": "2023-07-14T06:13:57.712Z"
   },
   {
    "duration": 1290,
    "start_time": "2023-07-14T06:13:57.963Z"
   },
   {
    "duration": 56,
    "start_time": "2023-07-14T06:13:59.255Z"
   },
   {
    "duration": 0,
    "start_time": "2023-07-14T06:13:59.313Z"
   },
   {
    "duration": 0,
    "start_time": "2023-07-14T06:13:59.314Z"
   },
   {
    "duration": 2245,
    "start_time": "2023-07-14T06:18:25.735Z"
   },
   {
    "duration": 21,
    "start_time": "2023-07-14T06:18:27.983Z"
   },
   {
    "duration": 26,
    "start_time": "2023-07-14T06:18:28.005Z"
   },
   {
    "duration": 306,
    "start_time": "2023-07-14T06:18:28.033Z"
   },
   {
    "duration": 328,
    "start_time": "2023-07-14T06:18:28.341Z"
   },
   {
    "duration": 2961,
    "start_time": "2023-07-14T06:18:28.671Z"
   },
   {
    "duration": 269,
    "start_time": "2023-07-14T06:18:31.634Z"
   },
   {
    "duration": 1632,
    "start_time": "2023-07-14T06:18:31.905Z"
   },
   {
    "duration": 50,
    "start_time": "2023-07-14T06:18:33.539Z"
   },
   {
    "duration": 0,
    "start_time": "2023-07-14T06:18:33.590Z"
   },
   {
    "duration": 0,
    "start_time": "2023-07-14T06:18:33.592Z"
   },
   {
    "duration": 2591,
    "start_time": "2023-07-14T06:47:35.374Z"
   },
   {
    "duration": 2969,
    "start_time": "2023-07-14T06:47:43.593Z"
   },
   {
    "duration": 3019,
    "start_time": "2023-07-14T06:47:59.604Z"
   },
   {
    "duration": 2695,
    "start_time": "2023-07-14T06:48:15.510Z"
   },
   {
    "duration": 3145,
    "start_time": "2023-07-14T06:48:30.183Z"
   },
   {
    "duration": 2795,
    "start_time": "2023-07-14T06:48:56.393Z"
   },
   {
    "duration": 3267,
    "start_time": "2023-07-14T08:50:04.842Z"
   },
   {
    "duration": 23,
    "start_time": "2023-07-14T08:50:08.112Z"
   },
   {
    "duration": 37,
    "start_time": "2023-07-14T08:50:08.137Z"
   },
   {
    "duration": 277,
    "start_time": "2023-07-14T08:50:08.176Z"
   },
   {
    "duration": 431,
    "start_time": "2023-07-14T08:50:08.455Z"
   },
   {
    "duration": 2752,
    "start_time": "2023-07-14T08:50:08.887Z"
   },
   {
    "duration": 376,
    "start_time": "2023-07-14T08:50:11.641Z"
   },
   {
    "duration": 1341,
    "start_time": "2023-07-14T08:50:12.019Z"
   },
   {
    "duration": 119,
    "start_time": "2023-07-14T08:50:13.361Z"
   },
   {
    "duration": 0,
    "start_time": "2023-07-14T08:50:13.482Z"
   },
   {
    "duration": 0,
    "start_time": "2023-07-14T08:50:13.484Z"
   },
   {
    "duration": 42,
    "start_time": "2023-07-14T08:57:04.194Z"
   },
   {
    "duration": 61,
    "start_time": "2023-07-14T08:57:17.963Z"
   },
   {
    "duration": 2929,
    "start_time": "2023-07-14T09:20:35.078Z"
   },
   {
    "duration": 69,
    "start_time": "2023-07-14T09:21:03.288Z"
   },
   {
    "duration": 86,
    "start_time": "2023-07-14T09:21:09.918Z"
   },
   {
    "duration": 63,
    "start_time": "2023-07-14T09:21:16.979Z"
   },
   {
    "duration": 93,
    "start_time": "2023-07-14T09:21:31.681Z"
   },
   {
    "duration": 2954,
    "start_time": "2023-07-14T09:21:37.208Z"
   },
   {
    "duration": 3283,
    "start_time": "2023-07-14T09:22:21.435Z"
   },
   {
    "duration": 942,
    "start_time": "2023-07-14T09:24:55.963Z"
   },
   {
    "duration": 2972,
    "start_time": "2023-07-14T09:25:06.729Z"
   },
   {
    "duration": 3103,
    "start_time": "2023-07-14T09:25:57.446Z"
   },
   {
    "duration": 3051,
    "start_time": "2023-07-14T09:26:22.457Z"
   },
   {
    "duration": 3060,
    "start_time": "2023-07-14T09:27:02.758Z"
   },
   {
    "duration": 3050,
    "start_time": "2023-07-14T09:27:18.838Z"
   },
   {
    "duration": 3228,
    "start_time": "2023-07-14T09:38:50.420Z"
   },
   {
    "duration": 3037,
    "start_time": "2023-07-14T09:38:57.657Z"
   },
   {
    "duration": 3248,
    "start_time": "2023-07-14T09:42:51.441Z"
   },
   {
    "duration": 3967,
    "start_time": "2023-07-14T09:47:01.234Z"
   },
   {
    "duration": 3138,
    "start_time": "2023-07-14T09:47:09.989Z"
   },
   {
    "duration": 3365,
    "start_time": "2023-07-17T04:13:42.290Z"
   },
   {
    "duration": 20,
    "start_time": "2023-07-17T04:13:45.657Z"
   },
   {
    "duration": 29,
    "start_time": "2023-07-17T04:13:45.679Z"
   },
   {
    "duration": 285,
    "start_time": "2023-07-17T04:13:45.710Z"
   },
   {
    "duration": 435,
    "start_time": "2023-07-17T04:13:45.998Z"
   },
   {
    "duration": 2982,
    "start_time": "2023-07-17T04:13:46.435Z"
   },
   {
    "duration": 249,
    "start_time": "2023-07-17T04:13:49.419Z"
   },
   {
    "duration": 1258,
    "start_time": "2023-07-17T04:13:49.670Z"
   },
   {
    "duration": 51,
    "start_time": "2023-07-17T04:13:50.930Z"
   },
   {
    "duration": 221,
    "start_time": "2023-07-17T04:13:50.983Z"
   },
   {
    "duration": 256,
    "start_time": "2023-07-17T04:13:51.212Z"
   },
   {
    "duration": 190,
    "start_time": "2023-07-17T04:32:50.286Z"
   },
   {
    "duration": 4312,
    "start_time": "2023-07-17T05:36:10.331Z"
   },
   {
    "duration": 20,
    "start_time": "2023-07-17T05:36:14.646Z"
   },
   {
    "duration": 33,
    "start_time": "2023-07-17T05:36:14.668Z"
   },
   {
    "duration": 345,
    "start_time": "2023-07-17T05:36:14.703Z"
   },
   {
    "duration": 885,
    "start_time": "2023-07-17T05:36:15.050Z"
   },
   {
    "duration": 5076,
    "start_time": "2023-07-17T05:36:15.937Z"
   },
   {
    "duration": 269,
    "start_time": "2023-07-17T05:36:21.016Z"
   },
   {
    "duration": 1436,
    "start_time": "2023-07-17T05:36:21.287Z"
   },
   {
    "duration": 61,
    "start_time": "2023-07-17T05:36:22.725Z"
   },
   {
    "duration": 249,
    "start_time": "2023-07-17T05:36:22.788Z"
   },
   {
    "duration": 14,
    "start_time": "2023-07-17T05:39:16.223Z"
   },
   {
    "duration": 86,
    "start_time": "2023-07-17T05:39:20.935Z"
   },
   {
    "duration": 9,
    "start_time": "2023-07-17T05:39:27.880Z"
   },
   {
    "duration": 8,
    "start_time": "2023-07-17T05:39:53.568Z"
   },
   {
    "duration": 235,
    "start_time": "2023-07-17T07:52:15.149Z"
   },
   {
    "duration": 3467,
    "start_time": "2023-07-17T07:52:44.484Z"
   },
   {
    "duration": 2300,
    "start_time": "2023-07-17T07:53:29.858Z"
   },
   {
    "duration": 2568,
    "start_time": "2023-07-17T07:59:41.363Z"
   },
   {
    "duration": 86,
    "start_time": "2023-07-17T08:00:18.983Z"
   },
   {
    "duration": 2246,
    "start_time": "2023-07-17T08:00:24.695Z"
   },
   {
    "duration": 15,
    "start_time": "2023-07-17T08:00:26.944Z"
   },
   {
    "duration": 30,
    "start_time": "2023-07-17T08:00:26.960Z"
   },
   {
    "duration": 0,
    "start_time": "2023-07-17T08:00:26.992Z"
   },
   {
    "duration": 0,
    "start_time": "2023-07-17T08:00:26.993Z"
   },
   {
    "duration": 0,
    "start_time": "2023-07-17T08:00:27.009Z"
   },
   {
    "duration": 0,
    "start_time": "2023-07-17T08:00:27.010Z"
   },
   {
    "duration": 0,
    "start_time": "2023-07-17T08:00:27.011Z"
   },
   {
    "duration": 0,
    "start_time": "2023-07-17T08:00:27.013Z"
   },
   {
    "duration": 0,
    "start_time": "2023-07-17T08:00:27.014Z"
   },
   {
    "duration": 250,
    "start_time": "2023-07-17T08:02:55.833Z"
   },
   {
    "duration": 2333,
    "start_time": "2023-07-17T08:04:10.941Z"
   },
   {
    "duration": 14,
    "start_time": "2023-07-17T08:04:13.276Z"
   },
   {
    "duration": 960,
    "start_time": "2023-07-17T08:04:13.292Z"
   },
   {
    "duration": 437,
    "start_time": "2023-07-17T08:04:14.254Z"
   },
   {
    "duration": 584,
    "start_time": "2023-07-17T08:04:14.694Z"
   },
   {
    "duration": 0,
    "start_time": "2023-07-17T08:04:15.280Z"
   },
   {
    "duration": 0,
    "start_time": "2023-07-17T08:04:15.281Z"
   },
   {
    "duration": 0,
    "start_time": "2023-07-17T08:04:15.283Z"
   },
   {
    "duration": 0,
    "start_time": "2023-07-17T08:04:15.284Z"
   },
   {
    "duration": 0,
    "start_time": "2023-07-17T08:04:15.285Z"
   },
   {
    "duration": 1398,
    "start_time": "2023-07-17T08:04:24.296Z"
   },
   {
    "duration": 1518,
    "start_time": "2023-07-17T08:04:35.606Z"
   },
   {
    "duration": 367,
    "start_time": "2023-07-17T08:05:14.069Z"
   },
   {
    "duration": 2339,
    "start_time": "2023-07-17T08:05:17.003Z"
   },
   {
    "duration": 17,
    "start_time": "2023-07-17T08:05:19.344Z"
   },
   {
    "duration": 66,
    "start_time": "2023-07-17T08:05:19.363Z"
   },
   {
    "duration": 321,
    "start_time": "2023-07-17T08:05:19.432Z"
   },
   {
    "duration": 379,
    "start_time": "2023-07-17T08:05:19.756Z"
   },
   {
    "duration": 0,
    "start_time": "2023-07-17T08:05:20.137Z"
   },
   {
    "duration": 0,
    "start_time": "2023-07-17T08:05:20.139Z"
   },
   {
    "duration": 0,
    "start_time": "2023-07-17T08:05:20.140Z"
   },
   {
    "duration": 1,
    "start_time": "2023-07-17T08:05:20.141Z"
   },
   {
    "duration": 0,
    "start_time": "2023-07-17T08:05:20.143Z"
   },
   {
    "duration": 1921,
    "start_time": "2023-07-17T08:06:58.694Z"
   },
   {
    "duration": 349,
    "start_time": "2023-07-17T08:07:40.085Z"
   },
   {
    "duration": 1436,
    "start_time": "2023-07-17T08:10:41.197Z"
   },
   {
    "duration": 1823,
    "start_time": "2023-07-17T08:10:50.255Z"
   },
   {
    "duration": 1673,
    "start_time": "2023-07-17T08:11:25.290Z"
   },
   {
    "duration": 1588,
    "start_time": "2023-07-17T08:11:53.194Z"
   },
   {
    "duration": 1820,
    "start_time": "2023-07-17T08:12:40.140Z"
   },
   {
    "duration": 1374,
    "start_time": "2023-07-17T08:13:58.755Z"
   },
   {
    "duration": 477,
    "start_time": "2023-07-17T08:15:32.237Z"
   },
   {
    "duration": 382,
    "start_time": "2023-07-17T08:15:47.365Z"
   },
   {
    "duration": 1423,
    "start_time": "2023-07-17T08:16:00.412Z"
   },
   {
    "duration": 1625,
    "start_time": "2023-07-17T08:17:00.432Z"
   },
   {
    "duration": 1509,
    "start_time": "2023-07-17T08:17:48.590Z"
   },
   {
    "duration": 27,
    "start_time": "2023-07-17T08:20:39.710Z"
   },
   {
    "duration": 2419,
    "start_time": "2023-07-17T08:20:42.485Z"
   },
   {
    "duration": 15,
    "start_time": "2023-07-17T08:20:44.907Z"
   },
   {
    "duration": 72,
    "start_time": "2023-07-17T08:20:44.924Z"
   },
   {
    "duration": 381,
    "start_time": "2023-07-17T08:20:44.998Z"
   },
   {
    "duration": 377,
    "start_time": "2023-07-17T08:20:45.382Z"
   },
   {
    "duration": 0,
    "start_time": "2023-07-17T08:20:45.761Z"
   },
   {
    "duration": 0,
    "start_time": "2023-07-17T08:20:45.762Z"
   },
   {
    "duration": 0,
    "start_time": "2023-07-17T08:20:45.764Z"
   },
   {
    "duration": 0,
    "start_time": "2023-07-17T08:20:45.765Z"
   },
   {
    "duration": 0,
    "start_time": "2023-07-17T08:20:45.767Z"
   },
   {
    "duration": 180,
    "start_time": "2023-07-17T08:21:23.001Z"
   },
   {
    "duration": 3640,
    "start_time": "2023-07-17T08:22:42.566Z"
   },
   {
    "duration": 345,
    "start_time": "2023-07-17T08:23:07.014Z"
   },
   {
    "duration": 355,
    "start_time": "2023-07-17T08:23:41.921Z"
   },
   {
    "duration": 356,
    "start_time": "2023-07-17T08:24:34.237Z"
   },
   {
    "duration": 428,
    "start_time": "2023-07-17T08:24:58.313Z"
   },
   {
    "duration": 362,
    "start_time": "2023-07-17T08:25:14.887Z"
   },
   {
    "duration": 2416,
    "start_time": "2023-07-17T08:25:19.548Z"
   },
   {
    "duration": 17,
    "start_time": "2023-07-17T08:25:21.967Z"
   },
   {
    "duration": 83,
    "start_time": "2023-07-17T08:25:21.986Z"
   },
   {
    "duration": 307,
    "start_time": "2023-07-17T08:25:22.071Z"
   },
   {
    "duration": 378,
    "start_time": "2023-07-17T08:25:22.381Z"
   },
   {
    "duration": 0,
    "start_time": "2023-07-17T08:25:22.760Z"
   },
   {
    "duration": 0,
    "start_time": "2023-07-17T08:25:22.762Z"
   },
   {
    "duration": 0,
    "start_time": "2023-07-17T08:25:22.763Z"
   },
   {
    "duration": 0,
    "start_time": "2023-07-17T08:25:22.764Z"
   },
   {
    "duration": 0,
    "start_time": "2023-07-17T08:25:22.765Z"
   },
   {
    "duration": 360,
    "start_time": "2023-07-17T08:25:51.249Z"
   },
   {
    "duration": 501,
    "start_time": "2023-07-17T08:25:56.221Z"
   },
   {
    "duration": 2301,
    "start_time": "2023-07-17T08:25:58.893Z"
   },
   {
    "duration": 26,
    "start_time": "2023-07-17T08:26:01.196Z"
   },
   {
    "duration": 119,
    "start_time": "2023-07-17T08:26:01.226Z"
   },
   {
    "duration": 462,
    "start_time": "2023-07-17T08:26:01.347Z"
   },
   {
    "duration": 357,
    "start_time": "2023-07-17T08:26:01.813Z"
   },
   {
    "duration": 3226,
    "start_time": "2023-07-17T08:26:02.171Z"
   },
   {
    "duration": 276,
    "start_time": "2023-07-17T08:26:05.398Z"
   },
   {
    "duration": 1705,
    "start_time": "2023-07-17T08:26:05.676Z"
   },
   {
    "duration": 66,
    "start_time": "2023-07-17T08:26:07.383Z"
   },
   {
    "duration": 243,
    "start_time": "2023-07-17T08:26:07.451Z"
   },
   {
    "duration": 291,
    "start_time": "2023-07-17T08:30:14.662Z"
   },
   {
    "duration": 317,
    "start_time": "2023-07-17T08:36:46.483Z"
   },
   {
    "duration": 399,
    "start_time": "2023-07-17T08:37:40.685Z"
   },
   {
    "duration": 379,
    "start_time": "2023-07-17T08:37:55.743Z"
   },
   {
    "duration": 322,
    "start_time": "2023-07-17T08:38:12.872Z"
   },
   {
    "duration": 295,
    "start_time": "2023-07-17T08:39:30.135Z"
   },
   {
    "duration": 366,
    "start_time": "2023-07-17T09:13:05.194Z"
   },
   {
    "duration": 305,
    "start_time": "2023-07-17T09:13:25.594Z"
   },
   {
    "duration": 316,
    "start_time": "2023-07-17T09:15:02.370Z"
   },
   {
    "duration": 518,
    "start_time": "2023-07-17T09:16:01.804Z"
   },
   {
    "duration": 438,
    "start_time": "2023-07-17T09:16:11.946Z"
   },
   {
    "duration": 356,
    "start_time": "2023-07-17T09:16:16.904Z"
   },
   {
    "duration": 338,
    "start_time": "2023-07-17T09:16:34.916Z"
   },
   {
    "duration": 326,
    "start_time": "2023-07-17T09:16:53.204Z"
   },
   {
    "duration": 438,
    "start_time": "2023-07-17T09:17:36.216Z"
   },
   {
    "duration": 315,
    "start_time": "2023-07-17T09:21:03.705Z"
   },
   {
    "duration": 298,
    "start_time": "2023-07-17T09:21:14.846Z"
   },
   {
    "duration": 333,
    "start_time": "2023-07-17T09:21:24.877Z"
   },
   {
    "duration": 422,
    "start_time": "2023-07-17T09:22:34.295Z"
   },
   {
    "duration": 2924,
    "start_time": "2023-07-17T09:24:16.178Z"
   },
   {
    "duration": 28,
    "start_time": "2023-07-17T09:24:19.105Z"
   },
   {
    "duration": 65,
    "start_time": "2023-07-17T09:24:19.136Z"
   },
   {
    "duration": 395,
    "start_time": "2023-07-17T09:24:19.204Z"
   },
   {
    "duration": 439,
    "start_time": "2023-07-17T09:24:19.602Z"
   },
   {
    "duration": 3948,
    "start_time": "2023-07-17T09:24:20.043Z"
   },
   {
    "duration": 318,
    "start_time": "2023-07-17T09:24:23.993Z"
   },
   {
    "duration": 1680,
    "start_time": "2023-07-17T09:24:24.314Z"
   },
   {
    "duration": 89,
    "start_time": "2023-07-17T09:24:25.996Z"
   },
   {
    "duration": 277,
    "start_time": "2023-07-17T09:24:26.087Z"
   },
   {
    "duration": 422,
    "start_time": "2023-07-17T09:25:06.598Z"
   },
   {
    "duration": 598,
    "start_time": "2023-07-17T09:29:13.229Z"
   },
   {
    "duration": 317,
    "start_time": "2023-07-17T09:29:59.635Z"
   },
   {
    "duration": 360,
    "start_time": "2023-07-17T09:32:09.018Z"
   },
   {
    "duration": 446,
    "start_time": "2023-07-17T09:32:19.997Z"
   },
   {
    "duration": 212,
    "start_time": "2023-07-17T09:32:32.006Z"
   },
   {
    "duration": 364,
    "start_time": "2023-07-17T09:32:40.717Z"
   },
   {
    "duration": 314,
    "start_time": "2023-07-17T09:33:10.996Z"
   },
   {
    "duration": 324,
    "start_time": "2023-07-17T09:33:29.807Z"
   },
   {
    "duration": 451,
    "start_time": "2023-07-17T09:35:00.836Z"
   },
   {
    "duration": 400,
    "start_time": "2023-07-17T09:35:19.385Z"
   },
   {
    "duration": 359,
    "start_time": "2023-07-17T09:35:32.536Z"
   },
   {
    "duration": 336,
    "start_time": "2023-07-17T09:37:09.817Z"
   },
   {
    "duration": 485,
    "start_time": "2023-07-17T09:37:38.105Z"
   },
   {
    "duration": 448,
    "start_time": "2023-07-17T09:37:57.706Z"
   },
   {
    "duration": 597,
    "start_time": "2023-07-17T09:39:09.196Z"
   },
   {
    "duration": 2619,
    "start_time": "2023-07-17T09:39:32.796Z"
   },
   {
    "duration": 20,
    "start_time": "2023-07-17T09:39:35.427Z"
   },
   {
    "duration": 53,
    "start_time": "2023-07-17T09:39:35.449Z"
   },
   {
    "duration": 538,
    "start_time": "2023-07-17T09:39:35.505Z"
   },
   {
    "duration": 440,
    "start_time": "2023-07-17T09:39:36.046Z"
   },
   {
    "duration": 3868,
    "start_time": "2023-07-17T09:39:36.488Z"
   },
   {
    "duration": 312,
    "start_time": "2023-07-17T09:39:40.358Z"
   },
   {
    "duration": 1549,
    "start_time": "2023-07-17T09:39:40.672Z"
   },
   {
    "duration": 89,
    "start_time": "2023-07-17T09:39:42.223Z"
   },
   {
    "duration": 248,
    "start_time": "2023-07-17T09:39:42.314Z"
   },
   {
    "duration": 701,
    "start_time": "2023-07-17T09:42:29.796Z"
   },
   {
    "duration": 15,
    "start_time": "2023-07-17T09:42:40.655Z"
   },
   {
    "duration": 19,
    "start_time": "2023-07-17T09:42:50.641Z"
   },
   {
    "duration": 16,
    "start_time": "2023-07-17T09:43:00.633Z"
   },
   {
    "duration": 20,
    "start_time": "2023-07-17T09:43:08.946Z"
   },
   {
    "duration": 14,
    "start_time": "2023-07-17T09:43:23.886Z"
   },
   {
    "duration": 717,
    "start_time": "2023-07-17T09:43:34.437Z"
   },
   {
    "duration": 321,
    "start_time": "2023-07-17T09:43:45.696Z"
   },
   {
    "duration": 13,
    "start_time": "2023-07-17T09:43:56.879Z"
   },
   {
    "duration": 419,
    "start_time": "2023-07-17T09:44:14.336Z"
   },
   {
    "duration": 678,
    "start_time": "2023-07-17T09:44:20.956Z"
   },
   {
    "duration": 2409,
    "start_time": "2023-07-17T09:44:26.657Z"
   },
   {
    "duration": 15,
    "start_time": "2023-07-17T09:44:29.068Z"
   },
   {
    "duration": 65,
    "start_time": "2023-07-17T09:44:29.085Z"
   },
   {
    "duration": 698,
    "start_time": "2023-07-17T09:44:29.152Z"
   },
   {
    "duration": 383,
    "start_time": "2023-07-17T09:44:29.853Z"
   },
   {
    "duration": 3402,
    "start_time": "2023-07-17T09:44:30.239Z"
   },
   {
    "duration": 279,
    "start_time": "2023-07-17T09:44:33.643Z"
   },
   {
    "duration": 1654,
    "start_time": "2023-07-17T09:44:33.924Z"
   },
   {
    "duration": 72,
    "start_time": "2023-07-17T09:44:35.580Z"
   },
   {
    "duration": 221,
    "start_time": "2023-07-17T09:44:35.654Z"
   },
   {
    "duration": 609,
    "start_time": "2023-07-17T09:44:45.735Z"
   },
   {
    "duration": 536,
    "start_time": "2023-07-17T09:45:35.516Z"
   },
   {
    "duration": 458,
    "start_time": "2023-07-17T09:46:11.566Z"
   },
   {
    "duration": 535,
    "start_time": "2023-07-17T09:46:34.336Z"
   },
   {
    "duration": 2470,
    "start_time": "2023-07-17T09:46:47.255Z"
   },
   {
    "duration": 15,
    "start_time": "2023-07-17T09:46:49.727Z"
   },
   {
    "duration": 39,
    "start_time": "2023-07-17T09:46:49.744Z"
   },
   {
    "duration": 418,
    "start_time": "2023-07-17T09:46:49.785Z"
   },
   {
    "duration": 376,
    "start_time": "2023-07-17T09:46:50.209Z"
   },
   {
    "duration": 3491,
    "start_time": "2023-07-17T09:46:50.587Z"
   },
   {
    "duration": 285,
    "start_time": "2023-07-17T09:46:54.080Z"
   },
   {
    "duration": 1792,
    "start_time": "2023-07-17T09:46:54.367Z"
   },
   {
    "duration": 74,
    "start_time": "2023-07-17T09:46:56.161Z"
   },
   {
    "duration": 230,
    "start_time": "2023-07-17T09:46:56.237Z"
   },
   {
    "duration": 2538,
    "start_time": "2023-07-17T09:47:01.021Z"
   },
   {
    "duration": 16,
    "start_time": "2023-07-17T09:47:03.561Z"
   },
   {
    "duration": 52,
    "start_time": "2023-07-17T09:47:03.579Z"
   },
   {
    "duration": 435,
    "start_time": "2023-07-17T09:47:03.634Z"
   },
   {
    "duration": 396,
    "start_time": "2023-07-17T09:47:04.072Z"
   },
   {
    "duration": 3499,
    "start_time": "2023-07-17T09:47:04.470Z"
   },
   {
    "duration": 294,
    "start_time": "2023-07-17T09:47:07.971Z"
   },
   {
    "duration": 1723,
    "start_time": "2023-07-17T09:47:08.267Z"
   },
   {
    "duration": 69,
    "start_time": "2023-07-17T09:47:09.992Z"
   },
   {
    "duration": 242,
    "start_time": "2023-07-17T09:47:10.062Z"
   },
   {
    "duration": 458,
    "start_time": "2023-07-17T09:48:44.071Z"
   },
   {
    "duration": 2703,
    "start_time": "2023-07-17T10:40:14.851Z"
   },
   {
    "duration": 16,
    "start_time": "2023-07-17T10:40:17.557Z"
   },
   {
    "duration": 50,
    "start_time": "2023-07-17T10:40:17.575Z"
   },
   {
    "duration": 342,
    "start_time": "2023-07-17T10:40:17.627Z"
   },
   {
    "duration": 12,
    "start_time": "2023-07-17T10:40:17.973Z"
   },
   {
    "duration": 0,
    "start_time": "2023-07-17T10:40:17.987Z"
   },
   {
    "duration": 0,
    "start_time": "2023-07-17T10:40:17.988Z"
   },
   {
    "duration": 0,
    "start_time": "2023-07-17T10:40:17.990Z"
   },
   {
    "duration": 0,
    "start_time": "2023-07-17T10:40:18.009Z"
   },
   {
    "duration": 0,
    "start_time": "2023-07-17T10:40:18.011Z"
   },
   {
    "duration": 0,
    "start_time": "2023-07-17T10:40:18.013Z"
   },
   {
    "duration": 19,
    "start_time": "2023-07-17T10:42:50.157Z"
   },
   {
    "duration": 14,
    "start_time": "2023-07-17T10:43:33.660Z"
   },
   {
    "duration": 21,
    "start_time": "2023-07-17T10:43:44.733Z"
   },
   {
    "duration": 29,
    "start_time": "2023-07-17T10:44:12.455Z"
   },
   {
    "duration": 24,
    "start_time": "2023-07-17T10:44:59.602Z"
   },
   {
    "duration": 28,
    "start_time": "2023-07-17T10:45:11.802Z"
   },
   {
    "duration": 30,
    "start_time": "2023-07-17T10:45:29.062Z"
   },
   {
    "duration": 473,
    "start_time": "2023-07-17T10:45:38.556Z"
   },
   {
    "duration": 57,
    "start_time": "2023-07-17T10:45:59.454Z"
   },
   {
    "duration": 54,
    "start_time": "2023-07-17T10:46:08.141Z"
   },
   {
    "duration": 62,
    "start_time": "2023-07-17T10:46:59.334Z"
   },
   {
    "duration": 66,
    "start_time": "2023-07-17T10:47:05.962Z"
   },
   {
    "duration": 62,
    "start_time": "2023-07-17T10:47:09.350Z"
   },
   {
    "duration": 2302,
    "start_time": "2023-07-17T10:47:18.958Z"
   },
   {
    "duration": 16,
    "start_time": "2023-07-17T10:47:21.262Z"
   },
   {
    "duration": 54,
    "start_time": "2023-07-17T10:47:21.280Z"
   },
   {
    "duration": 488,
    "start_time": "2023-07-17T10:47:21.336Z"
   },
   {
    "duration": 55,
    "start_time": "2023-07-17T10:47:21.826Z"
   },
   {
    "duration": 366,
    "start_time": "2023-07-17T10:47:21.883Z"
   },
   {
    "duration": 3178,
    "start_time": "2023-07-17T10:47:22.251Z"
   },
   {
    "duration": 266,
    "start_time": "2023-07-17T10:47:25.431Z"
   },
   {
    "duration": 1778,
    "start_time": "2023-07-17T10:47:25.699Z"
   },
   {
    "duration": 72,
    "start_time": "2023-07-17T10:47:27.479Z"
   },
   {
    "duration": 231,
    "start_time": "2023-07-17T10:47:27.553Z"
   },
   {
    "duration": 79,
    "start_time": "2023-07-17T10:48:33.904Z"
   },
   {
    "duration": 57,
    "start_time": "2023-07-17T10:49:16.450Z"
   },
   {
    "duration": 102,
    "start_time": "2023-07-17T10:49:34.276Z"
   },
   {
    "duration": 95,
    "start_time": "2023-07-17T10:49:51.354Z"
   },
   {
    "duration": 103,
    "start_time": "2023-07-17T10:50:15.672Z"
   },
   {
    "duration": 117,
    "start_time": "2023-07-17T10:50:42.192Z"
   },
   {
    "duration": 145,
    "start_time": "2023-07-17T10:51:00.958Z"
   },
   {
    "duration": 138,
    "start_time": "2023-07-17T10:51:42.860Z"
   },
   {
    "duration": 147,
    "start_time": "2023-07-17T10:52:12.146Z"
   },
   {
    "duration": 160,
    "start_time": "2023-07-17T10:52:43.584Z"
   },
   {
    "duration": 201,
    "start_time": "2023-07-17T10:53:13.865Z"
   },
   {
    "duration": 191,
    "start_time": "2023-07-17T10:53:53.105Z"
   },
   {
    "duration": 169,
    "start_time": "2023-07-17T10:54:25.362Z"
   },
   {
    "duration": 201,
    "start_time": "2023-07-17T10:54:42.802Z"
   },
   {
    "duration": 205,
    "start_time": "2023-07-17T10:56:58.485Z"
   },
   {
    "duration": 203,
    "start_time": "2023-07-17T10:57:08.563Z"
   },
   {
    "duration": 154,
    "start_time": "2023-07-17T10:58:16.984Z"
   },
   {
    "duration": 2505,
    "start_time": "2023-07-17T11:00:44.904Z"
   },
   {
    "duration": 15,
    "start_time": "2023-07-17T11:00:47.411Z"
   },
   {
    "duration": 66,
    "start_time": "2023-07-17T11:00:47.427Z"
   },
   {
    "duration": 327,
    "start_time": "2023-07-17T11:00:47.495Z"
   },
   {
    "duration": 206,
    "start_time": "2023-07-17T11:00:47.824Z"
   },
   {
    "duration": 359,
    "start_time": "2023-07-17T11:00:48.032Z"
   },
   {
    "duration": 3457,
    "start_time": "2023-07-17T11:00:48.393Z"
   },
   {
    "duration": 281,
    "start_time": "2023-07-17T11:00:51.852Z"
   },
   {
    "duration": 1690,
    "start_time": "2023-07-17T11:00:52.135Z"
   },
   {
    "duration": 83,
    "start_time": "2023-07-17T11:00:53.827Z"
   },
   {
    "duration": 230,
    "start_time": "2023-07-17T11:00:53.912Z"
   },
   {
    "duration": 2697,
    "start_time": "2023-07-17T11:02:23.726Z"
   },
   {
    "duration": 15,
    "start_time": "2023-07-17T11:02:26.425Z"
   },
   {
    "duration": 28,
    "start_time": "2023-07-17T11:02:26.442Z"
   },
   {
    "duration": 330,
    "start_time": "2023-07-17T11:02:26.509Z"
   },
   {
    "duration": 219,
    "start_time": "2023-07-17T11:02:26.842Z"
   },
   {
    "duration": 381,
    "start_time": "2023-07-17T11:02:27.063Z"
   },
   {
    "duration": 3613,
    "start_time": "2023-07-17T11:02:27.447Z"
   },
   {
    "duration": 294,
    "start_time": "2023-07-17T11:02:31.062Z"
   },
   {
    "duration": 1737,
    "start_time": "2023-07-17T11:02:31.358Z"
   },
   {
    "duration": 63,
    "start_time": "2023-07-17T11:02:33.096Z"
   },
   {
    "duration": 249,
    "start_time": "2023-07-17T11:02:33.161Z"
   },
   {
    "duration": 3162,
    "start_time": "2023-07-17T18:58:36.531Z"
   },
   {
    "duration": 30,
    "start_time": "2023-07-17T18:58:39.696Z"
   },
   {
    "duration": 34,
    "start_time": "2023-07-17T18:58:39.728Z"
   },
   {
    "duration": 360,
    "start_time": "2023-07-17T18:58:39.764Z"
   },
   {
    "duration": 194,
    "start_time": "2023-07-17T18:58:40.127Z"
   },
   {
    "duration": 366,
    "start_time": "2023-07-17T18:58:40.323Z"
   },
   {
    "duration": 4140,
    "start_time": "2023-07-17T18:58:40.691Z"
   },
   {
    "duration": 489,
    "start_time": "2023-07-17T18:58:44.833Z"
   },
   {
    "duration": 2367,
    "start_time": "2023-07-17T18:58:45.325Z"
   },
   {
    "duration": 79,
    "start_time": "2023-07-17T18:58:47.695Z"
   },
   {
    "duration": 233,
    "start_time": "2023-07-17T18:58:47.777Z"
   },
   {
    "duration": 17,
    "start_time": "2023-07-17T19:00:02.570Z"
   },
   {
    "duration": 141,
    "start_time": "2023-07-17T19:00:05.890Z"
   },
   {
    "duration": 10,
    "start_time": "2023-07-17T19:00:16.754Z"
   }
  ],
  "kernelspec": {
   "display_name": "Python 3 (ipykernel)",
   "language": "python",
   "name": "python3"
  },
  "language_info": {
   "codemirror_mode": {
    "name": "ipython",
    "version": 3
   },
   "file_extension": ".py",
   "mimetype": "text/x-python",
   "name": "python",
   "nbconvert_exporter": "python",
   "pygments_lexer": "ipython3",
   "version": "3.11.5"
  },
  "toc": {
   "base_numbering": 1,
   "nav_menu": {},
   "number_sections": true,
   "sideBar": true,
   "skip_h1_title": true,
   "title_cell": "Table of Contents",
   "title_sidebar": "Contents",
   "toc_cell": false,
   "toc_position": {},
   "toc_section_display": true,
   "toc_window_display": false
  }
 },
 "nbformat": 4,
 "nbformat_minor": 2
}
